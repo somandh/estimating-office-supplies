{
 "cells": [
  {
   "cell_type": "code",
   "execution_count": 1,
   "id": "a6c43d2f",
   "metadata": {},
   "outputs": [],
   "source": [
    "import os\n",
    "import pandas as pd\n",
    "import numpy as np\n",
    "import matplotlib.pyplot as plt\n",
    "import seaborn as sns"
   ]
  },
  {
   "cell_type": "code",
   "execution_count": 2,
   "id": "c1420058",
   "metadata": {},
   "outputs": [
    {
     "data": {
      "text/plain": [
       "['02 Office Supplies Orders Case Study Data.xlsx',\n",
       " '1256-Article Text-2316-1-10-20210405 (1).pdf',\n",
       " '1256-Article Text-2316-1-10-20210405.pdf',\n",
       " '19A91A04P3-MaanasaVayilada-Learnathon2021_C-certificate.pdf',\n",
       " '2021_-_Participant-600x600-Option_Participant-600x600-Option.png',\n",
       " '2022-2023 B.TECH DATABASE.xlsx',\n",
       " '4748-Main manuscript text-18926-2-10-20211028 (1).pdf',\n",
       " '4748-Main manuscript text-18926-2-10-20211028.pdf',\n",
       " 'abc.txt',\n",
       " 'alekya resume.pdf',\n",
       " 'Alice3_windows-x64_installer_3_6_0_1.exe',\n",
       " 'All about AI and Machine Learning_ Skills, Careers and Opportunities.ics',\n",
       " 'Anaconda3-2021.05-Windows-x86_64.exe',\n",
       " 'AP REVISED SYLLABUS FINAL.pdf',\n",
       " 'AppBrowser-Setup.exe',\n",
       " 'Aptitude Certificate.pdf',\n",
       " 'articles exercises-converted.docx',\n",
       " 'articles exercises.pdf',\n",
       " 'assessment 2.ipynb',\n",
       " 'autodebit-deactivation-letter (1)-converted-converted.pdf',\n",
       " 'autodebit-deactivation-letter (1)-converted.docx',\n",
       " 'autodebit-deactivation-letter (1).pdf',\n",
       " 'AWPL Assignment.pdf',\n",
       " 'bank_data.csv',\n",
       " 'bank_data_clean.xlsx',\n",
       " 'BIE _ Board of Intermediate Education, AP       {SUBHASH}.pdf',\n",
       " 'BIE _ Board of Intermediate Education, AP.pdf',\n",
       " 'Blue and Brick Red Geometric Modern Resume-converted.docx',\n",
       " 'Blue and Brick Red Geometric Modern Resume.pdf',\n",
       " 'BlueStacksInstaller_5.5.100.1040_native_fdd63e1e5a56405642030e663ab8c004_0.exe',\n",
       " 'C PROGRAMMING.pdf',\n",
       " 'C1M6L2_Final_Project_V3 (1).json',\n",
       " 'Case Studies - Phase 01 Deliverables.docx (1).pdf',\n",
       " 'Case Studies - Phase 01 Deliverables.docx (2).pdf',\n",
       " 'Case Studies - Phase 01 Deliverables.docx.pdf',\n",
       " 'case study2.ipynb',\n",
       " 'certificate (1) (1).pdf',\n",
       " 'certificate.pdf',\n",
       " 'CH. LOKESH.pdf',\n",
       " 'CiscoPacketTracer_801_Windows_64bit_setup.exe',\n",
       " 'Coursera QZ42MDZLU8KT.pdf',\n",
       " 'CV_2021-10-22-080026.pdf',\n",
       " 'DATA D (D) - Shortcut.lnk',\n",
       " 'dbms day 3.txt',\n",
       " 'dbms day1,2.txt',\n",
       " 'DC LAB MANUAL(AR19)2021-22(3).docx',\n",
       " 'DC LAB RECORD.pdf',\n",
       " 'DC Resume Format.docx',\n",
       " 'DC resume template 1.docx',\n",
       " 'DC resume template 2.docx',\n",
       " 'Deck_1.pptx',\n",
       " 'Dev-Cpp 5.11 TDM-GCC 4.9.2 Setup.exe',\n",
       " \"Devan's Classes PPT Templates.7z\",\n",
       " 'downloads',\n",
       " 'DSC_0498.JPG',\n",
       " 'DSC_0794.JPG',\n",
       " 'DT20219232197.docx',\n",
       " 'DT20219232197_Application (1).pdf',\n",
       " 'DT20219232197_Application.pdf',\n",
       " 'EAadhaar_xxxxxxxx7821_27092021231838_474271.pdf',\n",
       " 'EAadhaar_xxxxxxxx7821_27092021232255_470393.pdf',\n",
       " 'EHS CARD UPDATION- Copy.pdf',\n",
       " 'GATE EC RK Kanodia.pdf',\n",
       " 'GENERAL INFORMATION_INTERNSHIP NITI SCHEME.pdf',\n",
       " 'Hero Vired Lecture 01 Assignment (1).pdf',\n",
       " 'HEV Report.docx',\n",
       " 'HEV Report.pdf',\n",
       " 'HEV_shashank (1).pptx',\n",
       " 'ICA_important_questions_Sessional-II.pdf',\n",
       " 'IMG-20201205-WA0039.jpg',\n",
       " 'IMG-20210204-WA0025.jpg',\n",
       " 'in.gov.cbse-SSCER-201093572021.pdf',\n",
       " 'Industry Templates for Deliverables.pptx',\n",
       " 'InJNTU Covid19 Awareness Certificate.jpeg',\n",
       " 'INTERNSHIP.docx',\n",
       " 'Java course_certificate.pdf',\n",
       " 'JAVA_UNIT_2_PART1-ece.pptx',\n",
       " 'JN MPL HS AMMAVODI LIST 2020-2021.pdf',\n",
       " 'job-converted.docx',\n",
       " 'job.pdf',\n",
       " 'JYOTHI CN UNIT-4 2020-21 AEC.pdf',\n",
       " 'Learnathon2021_certificate.pdf',\n",
       " 'Lecture 01 Code PDF.pdf',\n",
       " 'Lecture 01.ipynb',\n",
       " 'Lecture 02 Home assignment - Supplement File.txt',\n",
       " 'Lecture 03 Code PDF.pdf',\n",
       " 'Lecture 06 Home Assignment.pdf',\n",
       " 'Lecture 2_HW (1).ipynb',\n",
       " 'Lecture 2_HW.ipynb',\n",
       " 'MAANASA  Resume.docx',\n",
       " 'Maanasa Aadhar .pdf',\n",
       " 'Maanasa Marksheets.pdf',\n",
       " 'maanasa new resume.pdf',\n",
       " 'Maanasa Resume (1).docx',\n",
       " 'Maanasa Resume-converted (1)-converted (1).pdf',\n",
       " 'Maanasa Resume-converted (1)-converted.pdf',\n",
       " 'Maanasa Resume-converted (1).docx',\n",
       " 'Maanasa Resume-converted (1).pdf',\n",
       " 'Maanasa Resume-converted.docx',\n",
       " 'Maanasa Resume-converted.pdf',\n",
       " 'Maanasa Resume.docx',\n",
       " 'Maanasa Resume.Old.pdf',\n",
       " 'Maanasa Resume.pdf',\n",
       " 'MAANASA-VAYILADA-Participant-Certificate.pdf',\n",
       " 'maanasa.jpg',\n",
       " 'MaanasaVayilada-Learnathon2021_C-certificate.pdf',\n",
       " 'NAT - PRINT FORM.pdf',\n",
       " 'NetAcad Learning Transcript.pdf',\n",
       " 'NEXT ONE YEAR.pdf',\n",
       " 'Nouns Exercises.docx',\n",
       " 'Open Notebook.onetoc2',\n",
       " 'Oxy elevator project11.pptx',\n",
       " 'Percentages DC Worksheet.pdf',\n",
       " 'Prep Exercises.pdf',\n",
       " 'Prepositions Notes DC English.pdf',\n",
       " 'Presentation-Opioids-9-14-18-final-with notes-ACH and Tribal meeting v2.pptx',\n",
       " 'Python basics.pdf',\n",
       " 'python-3.9.4-amd64.exe',\n",
       " 'reasearch documents.docx',\n",
       " 'Reasoning Certificata.pdf',\n",
       " 'RESEARCHING   ABOUT   SBI.pdf',\n",
       " 'RESUME-converted.docx',\n",
       " 'resume.pdf',\n",
       " 'RESUME_removed (2).pdf',\n",
       " 'RESUME_removed.pdf',\n",
       " 'SAB-Proctor-win10-2021.exe',\n",
       " 'satwica.pdf',\n",
       " 'SBI PRELIMS 2017 QUANT.pdf',\n",
       " \"SBQ Devan's Classes (1).pdf\",\n",
       " \"SBQ Devan's Classes.pdf\",\n",
       " 'socially relevant project D0,D1,L9,P3.docx',\n",
       " 'Spoken Tutorial Arduino.pdf',\n",
       " 'Spoken Tutorial Project.pdf',\n",
       " 'SRP Presentation D0,D1,L9,P3.....pptx',\n",
       " 'subbareddy resume-converted.docx',\n",
       " 'subbareddy resume.pdf',\n",
       " 'SWAYAM admit card Public Notice for 2021 _11.01.2022.pdf',\n",
       " 'TeamsSetupx64_s_8D9A1AB2CC662C9-7-0_.exe',\n",
       " 'template3.docx',\n",
       " 'template5.docx',\n",
       " 'template6 (1).docx',\n",
       " 'template6.docx',\n",
       " 'template7.docx',\n",
       " 'Time Table for B. Tech - V Semester End Examinations Regular (AR19) - JAN 2022.pdf',\n",
       " 'Time Table for B. Tech - VII Semester End Examinations Regular and Supplementary (AR17) - Jan 2022.pdf',\n",
       " 'Udemy free courses 27062021.pdf',\n",
       " 'Untitled9.ipynb',\n",
       " \"vayilada's Resume-converted.docx\",\n",
       " \"vayilada's Resume.pdf\",\n",
       " 'VLSI EXP-1 Observation.pdf',\n",
       " 'webex.exe',\n",
       " 'WhatsApp Image 2020-12-01 at 6.19.12 PM.jpeg',\n",
       " 'WhatsApp Image 2021-07-31 at 6.03.22 PM.jpg',\n",
       " 'WhatsApp Image 2021-07-31 at 6.27.44 PM.jpg',\n",
       " 'WhatsApp Image 2021-08-22 at 1.08.49 PM.jpg',\n",
       " 'WhatsApp Image 2021-08-22 at 12.09.15 PM.jpg',\n",
       " 'WhatsApp Image 2021-08-22 at 12.13.21 PM.jpg',\n",
       " 'WhatsApp Image 2021-10-15 at 7.32.06 PM.jpeg',\n",
       " 'WhatsApp Image 2021-10-15 at 7.52.45 PM.jpeg',\n",
       " 'WhatsApp Image 2021-10-15 at 7.58.57 PM.jpeg',\n",
       " 'WhatsApp Image 2021-10-19 at 9.26.51 PM (1).jpeg',\n",
       " 'WhatsApp Image 2021-10-19 at 9.26.51 PM.jpeg',\n",
       " 'WhatsApp Image 2021-10-20 at 6.15.36 PM.jpeg',\n",
       " 'WhatsApp Image 2022-01-04 at 12.07.40 PM.jpeg',\n",
       " 'WIPRO.rtf',\n",
       " 'ZoomInstaller.exe',\n",
       " '[Dataset 1]supermarket_sales.csv',\n",
       " '[Dataset 2]Students_eval_miss (1).csv',\n",
       " '[Dataset 2]Students_eval_miss.csv',\n",
       " '~$fytq class links.docx',\n",
       " '~$Oxy elevator project11.pptx',\n",
       " '~$ue and Brick Red Geometric Modern Resume-converted.docx']"
      ]
     },
     "execution_count": 2,
     "metadata": {},
     "output_type": "execute_result"
    }
   ],
   "source": [
    "os.chdir(r'D:\\downloads')\n",
    "os.listdir()"
   ]
  },
  {
   "cell_type": "code",
   "execution_count": 3,
   "id": "067bb389",
   "metadata": {},
   "outputs": [
    {
     "data": {
      "text/html": [
       "<div>\n",
       "<style scoped>\n",
       "    .dataframe tbody tr th:only-of-type {\n",
       "        vertical-align: middle;\n",
       "    }\n",
       "\n",
       "    .dataframe tbody tr th {\n",
       "        vertical-align: top;\n",
       "    }\n",
       "\n",
       "    .dataframe thead th {\n",
       "        text-align: right;\n",
       "    }\n",
       "</style>\n",
       "<table border=\"1\" class=\"dataframe\">\n",
       "  <thead>\n",
       "    <tr style=\"text-align: right;\">\n",
       "      <th></th>\n",
       "      <th>Order ID</th>\n",
       "      <th>Order Date</th>\n",
       "      <th>Ship Date</th>\n",
       "      <th>Ship Mode</th>\n",
       "      <th>Customer ID</th>\n",
       "      <th>Customer Name</th>\n",
       "      <th>Segment</th>\n",
       "      <th>Postal Code</th>\n",
       "      <th>City</th>\n",
       "      <th>State</th>\n",
       "      <th>...</th>\n",
       "      <th>Product ID</th>\n",
       "      <th>Category</th>\n",
       "      <th>Sub-Category</th>\n",
       "      <th>Product Name</th>\n",
       "      <th>Sales</th>\n",
       "      <th>Quantity</th>\n",
       "      <th>Discount</th>\n",
       "      <th>Profit</th>\n",
       "      <th>Shipping Cost</th>\n",
       "      <th>Order Priority</th>\n",
       "    </tr>\n",
       "  </thead>\n",
       "  <tbody>\n",
       "    <tr>\n",
       "      <th>0</th>\n",
       "      <td>CA-2014-AB10015140-41954</td>\n",
       "      <td>2014-11-11</td>\n",
       "      <td>2014-11-13</td>\n",
       "      <td>First Class</td>\n",
       "      <td>AB-100151402</td>\n",
       "      <td>Aaron Bergman</td>\n",
       "      <td>Consumer</td>\n",
       "      <td>73120.0</td>\n",
       "      <td>Oklahoma City</td>\n",
       "      <td>Oklahoma</td>\n",
       "      <td>...</td>\n",
       "      <td>TEC-PH-5816</td>\n",
       "      <td>Technology</td>\n",
       "      <td>Phones</td>\n",
       "      <td>Samsung Convoy 3</td>\n",
       "      <td>221.980</td>\n",
       "      <td>2</td>\n",
       "      <td>0.0</td>\n",
       "      <td>62.1544</td>\n",
       "      <td>40.770</td>\n",
       "      <td>High</td>\n",
       "    </tr>\n",
       "    <tr>\n",
       "      <th>1</th>\n",
       "      <td>IN-2014-JR162107-41675</td>\n",
       "      <td>2014-02-05</td>\n",
       "      <td>2014-02-07</td>\n",
       "      <td>Second Class</td>\n",
       "      <td>JR-162107</td>\n",
       "      <td>Justin Ritter</td>\n",
       "      <td>Corporate</td>\n",
       "      <td>NaN</td>\n",
       "      <td>Wollongong</td>\n",
       "      <td>New South Wales</td>\n",
       "      <td>...</td>\n",
       "      <td>FUR-CH-5379</td>\n",
       "      <td>Furniture</td>\n",
       "      <td>Chairs</td>\n",
       "      <td>Novimex Executive Leather Armchair, Black</td>\n",
       "      <td>3709.395</td>\n",
       "      <td>9</td>\n",
       "      <td>0.1</td>\n",
       "      <td>-288.7650</td>\n",
       "      <td>923.630</td>\n",
       "      <td>Critical</td>\n",
       "    </tr>\n",
       "    <tr>\n",
       "      <th>2</th>\n",
       "      <td>IN-2014-CR127307-41929</td>\n",
       "      <td>2014-10-17</td>\n",
       "      <td>2014-10-18</td>\n",
       "      <td>First Class</td>\n",
       "      <td>CR-127307</td>\n",
       "      <td>Craig Reiter</td>\n",
       "      <td>Consumer</td>\n",
       "      <td>NaN</td>\n",
       "      <td>Brisbane</td>\n",
       "      <td>Queensland</td>\n",
       "      <td>...</td>\n",
       "      <td>TEC-PH-5356</td>\n",
       "      <td>Technology</td>\n",
       "      <td>Phones</td>\n",
       "      <td>Nokia Smart Phone, with Caller ID</td>\n",
       "      <td>5175.171</td>\n",
       "      <td>9</td>\n",
       "      <td>0.1</td>\n",
       "      <td>919.9710</td>\n",
       "      <td>915.490</td>\n",
       "      <td>Medium</td>\n",
       "    </tr>\n",
       "    <tr>\n",
       "      <th>3</th>\n",
       "      <td>ES-2014-KM1637548-41667</td>\n",
       "      <td>2014-01-28</td>\n",
       "      <td>2014-01-30</td>\n",
       "      <td>First Class</td>\n",
       "      <td>KM-1637548</td>\n",
       "      <td>Katherine Murray</td>\n",
       "      <td>Home Office</td>\n",
       "      <td>NaN</td>\n",
       "      <td>Berlin</td>\n",
       "      <td>Berlin</td>\n",
       "      <td>...</td>\n",
       "      <td>TEC-PH-5267</td>\n",
       "      <td>Technology</td>\n",
       "      <td>Phones</td>\n",
       "      <td>Motorola Smart Phone, Cordless</td>\n",
       "      <td>2892.510</td>\n",
       "      <td>5</td>\n",
       "      <td>0.1</td>\n",
       "      <td>-96.5400</td>\n",
       "      <td>910.160</td>\n",
       "      <td>Medium</td>\n",
       "    </tr>\n",
       "    <tr>\n",
       "      <th>4</th>\n",
       "      <td>SG-2014-RH9495111-41948</td>\n",
       "      <td>2014-11-05</td>\n",
       "      <td>2014-11-06</td>\n",
       "      <td>Same Day</td>\n",
       "      <td>RH-9495111</td>\n",
       "      <td>Rick Hansen</td>\n",
       "      <td>Consumer</td>\n",
       "      <td>NaN</td>\n",
       "      <td>Dakar</td>\n",
       "      <td>Dakar</td>\n",
       "      <td>...</td>\n",
       "      <td>TEC-CO-6011</td>\n",
       "      <td>Technology</td>\n",
       "      <td>Copiers</td>\n",
       "      <td>Sharp Wireless Fax, High-Speed</td>\n",
       "      <td>2832.960</td>\n",
       "      <td>8</td>\n",
       "      <td>0.0</td>\n",
       "      <td>311.5200</td>\n",
       "      <td>903.040</td>\n",
       "      <td>Critical</td>\n",
       "    </tr>\n",
       "    <tr>\n",
       "      <th>...</th>\n",
       "      <td>...</td>\n",
       "      <td>...</td>\n",
       "      <td>...</td>\n",
       "      <td>...</td>\n",
       "      <td>...</td>\n",
       "      <td>...</td>\n",
       "      <td>...</td>\n",
       "      <td>...</td>\n",
       "      <td>...</td>\n",
       "      <td>...</td>\n",
       "      <td>...</td>\n",
       "      <td>...</td>\n",
       "      <td>...</td>\n",
       "      <td>...</td>\n",
       "      <td>...</td>\n",
       "      <td>...</td>\n",
       "      <td>...</td>\n",
       "      <td>...</td>\n",
       "      <td>...</td>\n",
       "      <td>...</td>\n",
       "      <td>...</td>\n",
       "    </tr>\n",
       "    <tr>\n",
       "      <th>51285</th>\n",
       "      <td>IN-2015-KE1642066-42174</td>\n",
       "      <td>2015-06-19</td>\n",
       "      <td>2015-06-19</td>\n",
       "      <td>Same Day</td>\n",
       "      <td>KE-1642066</td>\n",
       "      <td>Katrina Edelman</td>\n",
       "      <td>Corporate</td>\n",
       "      <td>NaN</td>\n",
       "      <td>Kure</td>\n",
       "      <td>Hiroshima</td>\n",
       "      <td>...</td>\n",
       "      <td>OFF-FA-3072</td>\n",
       "      <td>Office Supplies</td>\n",
       "      <td>Fasteners</td>\n",
       "      <td>Advantus Thumb Tacks, 12 Pack</td>\n",
       "      <td>65.100</td>\n",
       "      <td>5</td>\n",
       "      <td>0.0</td>\n",
       "      <td>4.5000</td>\n",
       "      <td>1.010</td>\n",
       "      <td>Medium</td>\n",
       "    </tr>\n",
       "    <tr>\n",
       "      <th>51286</th>\n",
       "      <td>US-2014-ZD21925140-41765</td>\n",
       "      <td>2014-05-06</td>\n",
       "      <td>2014-05-10</td>\n",
       "      <td>Standard Class</td>\n",
       "      <td>ZD-219251408</td>\n",
       "      <td>Zuschuss Donatelli</td>\n",
       "      <td>Consumer</td>\n",
       "      <td>37421.0</td>\n",
       "      <td>Chattanooga</td>\n",
       "      <td>Tennessee</td>\n",
       "      <td>...</td>\n",
       "      <td>FUR-FU-4070</td>\n",
       "      <td>Furniture</td>\n",
       "      <td>Furnishings</td>\n",
       "      <td>Eldon Image Series Desk Accessories, Burgundy</td>\n",
       "      <td>16.720</td>\n",
       "      <td>5</td>\n",
       "      <td>0.2</td>\n",
       "      <td>3.3440</td>\n",
       "      <td>1.930</td>\n",
       "      <td>High</td>\n",
       "    </tr>\n",
       "    <tr>\n",
       "      <th>51287</th>\n",
       "      <td>CA-2012-ZD21925140-41147</td>\n",
       "      <td>2012-08-26</td>\n",
       "      <td>2012-08-31</td>\n",
       "      <td>Second Class</td>\n",
       "      <td>ZD-219251404</td>\n",
       "      <td>Zuschuss Donatelli</td>\n",
       "      <td>Consumer</td>\n",
       "      <td>94109.0</td>\n",
       "      <td>San Francisco</td>\n",
       "      <td>California</td>\n",
       "      <td>...</td>\n",
       "      <td>OFF-AR-5321</td>\n",
       "      <td>Office Supplies</td>\n",
       "      <td>Art</td>\n",
       "      <td>Newell 341</td>\n",
       "      <td>8.560</td>\n",
       "      <td>2</td>\n",
       "      <td>0.0</td>\n",
       "      <td>2.4824</td>\n",
       "      <td>1.580</td>\n",
       "      <td>High</td>\n",
       "    </tr>\n",
       "    <tr>\n",
       "      <th>51288</th>\n",
       "      <td>MX-2013-RB1979518-41322</td>\n",
       "      <td>2013-02-17</td>\n",
       "      <td>2013-02-21</td>\n",
       "      <td>Standard Class</td>\n",
       "      <td>RB-1979518</td>\n",
       "      <td>Ross Baird</td>\n",
       "      <td>Home Office</td>\n",
       "      <td>NaN</td>\n",
       "      <td>Valinhos</td>\n",
       "      <td>São Paulo</td>\n",
       "      <td>...</td>\n",
       "      <td>OFF-BI-2919</td>\n",
       "      <td>Office Supplies</td>\n",
       "      <td>Binders</td>\n",
       "      <td>Acco Index Tab, Economy</td>\n",
       "      <td>13.440</td>\n",
       "      <td>2</td>\n",
       "      <td>0.0</td>\n",
       "      <td>2.4000</td>\n",
       "      <td>1.003</td>\n",
       "      <td>Medium</td>\n",
       "    </tr>\n",
       "    <tr>\n",
       "      <th>51289</th>\n",
       "      <td>MX-2013-MC1810093-41416</td>\n",
       "      <td>2013-05-22</td>\n",
       "      <td>2013-05-26</td>\n",
       "      <td>Second Class</td>\n",
       "      <td>MC-1810093</td>\n",
       "      <td>Mick Crebagga</td>\n",
       "      <td>Consumer</td>\n",
       "      <td>NaN</td>\n",
       "      <td>Tipitapa</td>\n",
       "      <td>Managua</td>\n",
       "      <td>...</td>\n",
       "      <td>OFF-PA-3990</td>\n",
       "      <td>Office Supplies</td>\n",
       "      <td>Paper</td>\n",
       "      <td>Eaton Computer Printout Paper, 8.5 x 11</td>\n",
       "      <td>61.380</td>\n",
       "      <td>3</td>\n",
       "      <td>0.0</td>\n",
       "      <td>1.8000</td>\n",
       "      <td>1.002</td>\n",
       "      <td>High</td>\n",
       "    </tr>\n",
       "  </tbody>\n",
       "</table>\n",
       "<p>51290 rows × 23 columns</p>\n",
       "</div>"
      ],
      "text/plain": [
       "                       Order ID Order Date  Ship Date       Ship Mode  \\\n",
       "0      CA-2014-AB10015140-41954 2014-11-11 2014-11-13     First Class   \n",
       "1        IN-2014-JR162107-41675 2014-02-05 2014-02-07    Second Class   \n",
       "2        IN-2014-CR127307-41929 2014-10-17 2014-10-18     First Class   \n",
       "3       ES-2014-KM1637548-41667 2014-01-28 2014-01-30     First Class   \n",
       "4       SG-2014-RH9495111-41948 2014-11-05 2014-11-06        Same Day   \n",
       "...                         ...        ...        ...             ...   \n",
       "51285   IN-2015-KE1642066-42174 2015-06-19 2015-06-19        Same Day   \n",
       "51286  US-2014-ZD21925140-41765 2014-05-06 2014-05-10  Standard Class   \n",
       "51287  CA-2012-ZD21925140-41147 2012-08-26 2012-08-31    Second Class   \n",
       "51288   MX-2013-RB1979518-41322 2013-02-17 2013-02-21  Standard Class   \n",
       "51289   MX-2013-MC1810093-41416 2013-05-22 2013-05-26    Second Class   \n",
       "\n",
       "        Customer ID       Customer Name      Segment  Postal Code  \\\n",
       "0      AB-100151402       Aaron Bergman     Consumer      73120.0   \n",
       "1         JR-162107       Justin Ritter    Corporate          NaN   \n",
       "2         CR-127307        Craig Reiter     Consumer          NaN   \n",
       "3        KM-1637548    Katherine Murray  Home Office          NaN   \n",
       "4        RH-9495111         Rick Hansen     Consumer          NaN   \n",
       "...             ...                 ...          ...          ...   \n",
       "51285    KE-1642066     Katrina Edelman    Corporate          NaN   \n",
       "51286  ZD-219251408  Zuschuss Donatelli     Consumer      37421.0   \n",
       "51287  ZD-219251404  Zuschuss Donatelli     Consumer      94109.0   \n",
       "51288    RB-1979518          Ross Baird  Home Office          NaN   \n",
       "51289    MC-1810093       Mick Crebagga     Consumer          NaN   \n",
       "\n",
       "                City            State  ...   Product ID         Category  \\\n",
       "0      Oklahoma City         Oklahoma  ...  TEC-PH-5816       Technology   \n",
       "1         Wollongong  New South Wales  ...  FUR-CH-5379        Furniture   \n",
       "2           Brisbane       Queensland  ...  TEC-PH-5356       Technology   \n",
       "3             Berlin           Berlin  ...  TEC-PH-5267       Technology   \n",
       "4              Dakar            Dakar  ...  TEC-CO-6011       Technology   \n",
       "...              ...              ...  ...          ...              ...   \n",
       "51285           Kure        Hiroshima  ...  OFF-FA-3072  Office Supplies   \n",
       "51286    Chattanooga        Tennessee  ...  FUR-FU-4070        Furniture   \n",
       "51287  San Francisco       California  ...  OFF-AR-5321  Office Supplies   \n",
       "51288       Valinhos        São Paulo  ...  OFF-BI-2919  Office Supplies   \n",
       "51289       Tipitapa          Managua  ...  OFF-PA-3990  Office Supplies   \n",
       "\n",
       "      Sub-Category                                   Product Name     Sales  \\\n",
       "0           Phones                               Samsung Convoy 3   221.980   \n",
       "1           Chairs      Novimex Executive Leather Armchair, Black  3709.395   \n",
       "2           Phones              Nokia Smart Phone, with Caller ID  5175.171   \n",
       "3           Phones                 Motorola Smart Phone, Cordless  2892.510   \n",
       "4          Copiers                 Sharp Wireless Fax, High-Speed  2832.960   \n",
       "...            ...                                            ...       ...   \n",
       "51285    Fasteners                  Advantus Thumb Tacks, 12 Pack    65.100   \n",
       "51286  Furnishings  Eldon Image Series Desk Accessories, Burgundy    16.720   \n",
       "51287          Art                                     Newell 341     8.560   \n",
       "51288      Binders                        Acco Index Tab, Economy    13.440   \n",
       "51289        Paper        Eaton Computer Printout Paper, 8.5 x 11    61.380   \n",
       "\n",
       "      Quantity Discount    Profit  Shipping Cost  Order Priority  \n",
       "0            2      0.0   62.1544         40.770            High  \n",
       "1            9      0.1 -288.7650        923.630        Critical  \n",
       "2            9      0.1  919.9710        915.490          Medium  \n",
       "3            5      0.1  -96.5400        910.160          Medium  \n",
       "4            8      0.0  311.5200        903.040        Critical  \n",
       "...        ...      ...       ...            ...             ...  \n",
       "51285        5      0.0    4.5000          1.010          Medium  \n",
       "51286        5      0.2    3.3440          1.930            High  \n",
       "51287        2      0.0    2.4824          1.580            High  \n",
       "51288        2      0.0    2.4000          1.003          Medium  \n",
       "51289        3      0.0    1.8000          1.002            High  \n",
       "\n",
       "[51290 rows x 23 columns]"
      ]
     },
     "execution_count": 3,
     "metadata": {},
     "output_type": "execute_result"
    }
   ],
   "source": [
    "df=pd.read_excel('02 Office Supplies Orders Case Study Data.xlsx',sheet_name='Data')\n",
    "df"
   ]
  },
  {
   "cell_type": "code",
   "execution_count": 17,
   "id": "544ba9bc",
   "metadata": {},
   "outputs": [
    {
     "name": "stdout",
     "output_type": "stream",
     "text": [
      "<class 'pandas.core.frame.DataFrame'>\n",
      "RangeIndex: 51290 entries, 0 to 51289\n",
      "Data columns (total 23 columns):\n",
      " #   Column          Non-Null Count  Dtype         \n",
      "---  ------          --------------  -----         \n",
      " 0   Order ID        51290 non-null  object        \n",
      " 1   Order Date      51290 non-null  datetime64[ns]\n",
      " 2   Ship Date       51290 non-null  datetime64[ns]\n",
      " 3   Ship Mode       51290 non-null  object        \n",
      " 4   Customer ID     51290 non-null  object        \n",
      " 5   Customer Name   51290 non-null  object        \n",
      " 6   Segment         51290 non-null  object        \n",
      " 7   Postal Code     9994 non-null   float64       \n",
      " 8   City            51290 non-null  object        \n",
      " 9   State           51290 non-null  object        \n",
      " 10  Country         51290 non-null  object        \n",
      " 11  Region          51290 non-null  object        \n",
      " 12  Market          51290 non-null  object        \n",
      " 13  Product ID      51290 non-null  object        \n",
      " 14  Category        51290 non-null  object        \n",
      " 15  Sub-Category    51290 non-null  object        \n",
      " 16  Product Name    51290 non-null  object        \n",
      " 17  Sales           51290 non-null  float64       \n",
      " 18  Quantity        51290 non-null  int64         \n",
      " 19  Discount        51290 non-null  float64       \n",
      " 20  Profit          51290 non-null  float64       \n",
      " 21  Shipping Cost   51290 non-null  float64       \n",
      " 22  Order Priority  51290 non-null  object        \n",
      "dtypes: datetime64[ns](2), float64(5), int64(1), object(15)\n",
      "memory usage: 9.0+ MB\n"
     ]
    }
   ],
   "source": [
    "df.info()"
   ]
  },
  {
   "cell_type": "code",
   "execution_count": 21,
   "id": "46a5eec9",
   "metadata": {},
   "outputs": [
    {
     "data": {
      "text/html": [
       "<div>\n",
       "<style scoped>\n",
       "    .dataframe tbody tr th:only-of-type {\n",
       "        vertical-align: middle;\n",
       "    }\n",
       "\n",
       "    .dataframe tbody tr th {\n",
       "        vertical-align: top;\n",
       "    }\n",
       "\n",
       "    .dataframe thead th {\n",
       "        text-align: right;\n",
       "    }\n",
       "</style>\n",
       "<table border=\"1\" class=\"dataframe\">\n",
       "  <thead>\n",
       "    <tr style=\"text-align: right;\">\n",
       "      <th></th>\n",
       "      <th>Order ID</th>\n",
       "      <th>Order Date</th>\n",
       "      <th>Ship Date</th>\n",
       "      <th>Ship Mode</th>\n",
       "      <th>Customer ID</th>\n",
       "      <th>Customer Name</th>\n",
       "      <th>Segment</th>\n",
       "      <th>Postal Code</th>\n",
       "      <th>City</th>\n",
       "      <th>State</th>\n",
       "      <th>...</th>\n",
       "      <th>Product ID</th>\n",
       "      <th>Category</th>\n",
       "      <th>Sub-Category</th>\n",
       "      <th>Product Name</th>\n",
       "      <th>Sales</th>\n",
       "      <th>Quantity</th>\n",
       "      <th>Discount</th>\n",
       "      <th>Profit</th>\n",
       "      <th>Shipping Cost</th>\n",
       "      <th>Order Priority</th>\n",
       "    </tr>\n",
       "  </thead>\n",
       "  <tbody>\n",
       "    <tr>\n",
       "      <th>0</th>\n",
       "      <td>False</td>\n",
       "      <td>False</td>\n",
       "      <td>False</td>\n",
       "      <td>False</td>\n",
       "      <td>False</td>\n",
       "      <td>False</td>\n",
       "      <td>False</td>\n",
       "      <td>False</td>\n",
       "      <td>False</td>\n",
       "      <td>False</td>\n",
       "      <td>...</td>\n",
       "      <td>False</td>\n",
       "      <td>False</td>\n",
       "      <td>False</td>\n",
       "      <td>False</td>\n",
       "      <td>False</td>\n",
       "      <td>False</td>\n",
       "      <td>False</td>\n",
       "      <td>False</td>\n",
       "      <td>False</td>\n",
       "      <td>False</td>\n",
       "    </tr>\n",
       "    <tr>\n",
       "      <th>1</th>\n",
       "      <td>False</td>\n",
       "      <td>False</td>\n",
       "      <td>False</td>\n",
       "      <td>False</td>\n",
       "      <td>False</td>\n",
       "      <td>False</td>\n",
       "      <td>False</td>\n",
       "      <td>True</td>\n",
       "      <td>False</td>\n",
       "      <td>False</td>\n",
       "      <td>...</td>\n",
       "      <td>False</td>\n",
       "      <td>False</td>\n",
       "      <td>False</td>\n",
       "      <td>False</td>\n",
       "      <td>False</td>\n",
       "      <td>False</td>\n",
       "      <td>False</td>\n",
       "      <td>False</td>\n",
       "      <td>False</td>\n",
       "      <td>False</td>\n",
       "    </tr>\n",
       "    <tr>\n",
       "      <th>2</th>\n",
       "      <td>False</td>\n",
       "      <td>False</td>\n",
       "      <td>False</td>\n",
       "      <td>False</td>\n",
       "      <td>False</td>\n",
       "      <td>False</td>\n",
       "      <td>False</td>\n",
       "      <td>True</td>\n",
       "      <td>False</td>\n",
       "      <td>False</td>\n",
       "      <td>...</td>\n",
       "      <td>False</td>\n",
       "      <td>False</td>\n",
       "      <td>False</td>\n",
       "      <td>False</td>\n",
       "      <td>False</td>\n",
       "      <td>False</td>\n",
       "      <td>False</td>\n",
       "      <td>False</td>\n",
       "      <td>False</td>\n",
       "      <td>False</td>\n",
       "    </tr>\n",
       "    <tr>\n",
       "      <th>3</th>\n",
       "      <td>False</td>\n",
       "      <td>False</td>\n",
       "      <td>False</td>\n",
       "      <td>False</td>\n",
       "      <td>False</td>\n",
       "      <td>False</td>\n",
       "      <td>False</td>\n",
       "      <td>True</td>\n",
       "      <td>False</td>\n",
       "      <td>False</td>\n",
       "      <td>...</td>\n",
       "      <td>False</td>\n",
       "      <td>False</td>\n",
       "      <td>False</td>\n",
       "      <td>False</td>\n",
       "      <td>False</td>\n",
       "      <td>False</td>\n",
       "      <td>False</td>\n",
       "      <td>False</td>\n",
       "      <td>False</td>\n",
       "      <td>False</td>\n",
       "    </tr>\n",
       "    <tr>\n",
       "      <th>4</th>\n",
       "      <td>False</td>\n",
       "      <td>False</td>\n",
       "      <td>False</td>\n",
       "      <td>False</td>\n",
       "      <td>False</td>\n",
       "      <td>False</td>\n",
       "      <td>False</td>\n",
       "      <td>True</td>\n",
       "      <td>False</td>\n",
       "      <td>False</td>\n",
       "      <td>...</td>\n",
       "      <td>False</td>\n",
       "      <td>False</td>\n",
       "      <td>False</td>\n",
       "      <td>False</td>\n",
       "      <td>False</td>\n",
       "      <td>False</td>\n",
       "      <td>False</td>\n",
       "      <td>False</td>\n",
       "      <td>False</td>\n",
       "      <td>False</td>\n",
       "    </tr>\n",
       "    <tr>\n",
       "      <th>...</th>\n",
       "      <td>...</td>\n",
       "      <td>...</td>\n",
       "      <td>...</td>\n",
       "      <td>...</td>\n",
       "      <td>...</td>\n",
       "      <td>...</td>\n",
       "      <td>...</td>\n",
       "      <td>...</td>\n",
       "      <td>...</td>\n",
       "      <td>...</td>\n",
       "      <td>...</td>\n",
       "      <td>...</td>\n",
       "      <td>...</td>\n",
       "      <td>...</td>\n",
       "      <td>...</td>\n",
       "      <td>...</td>\n",
       "      <td>...</td>\n",
       "      <td>...</td>\n",
       "      <td>...</td>\n",
       "      <td>...</td>\n",
       "      <td>...</td>\n",
       "    </tr>\n",
       "    <tr>\n",
       "      <th>51285</th>\n",
       "      <td>False</td>\n",
       "      <td>False</td>\n",
       "      <td>False</td>\n",
       "      <td>False</td>\n",
       "      <td>False</td>\n",
       "      <td>False</td>\n",
       "      <td>False</td>\n",
       "      <td>True</td>\n",
       "      <td>False</td>\n",
       "      <td>False</td>\n",
       "      <td>...</td>\n",
       "      <td>False</td>\n",
       "      <td>False</td>\n",
       "      <td>False</td>\n",
       "      <td>False</td>\n",
       "      <td>False</td>\n",
       "      <td>False</td>\n",
       "      <td>False</td>\n",
       "      <td>False</td>\n",
       "      <td>False</td>\n",
       "      <td>False</td>\n",
       "    </tr>\n",
       "    <tr>\n",
       "      <th>51286</th>\n",
       "      <td>False</td>\n",
       "      <td>False</td>\n",
       "      <td>False</td>\n",
       "      <td>False</td>\n",
       "      <td>False</td>\n",
       "      <td>False</td>\n",
       "      <td>False</td>\n",
       "      <td>False</td>\n",
       "      <td>False</td>\n",
       "      <td>False</td>\n",
       "      <td>...</td>\n",
       "      <td>False</td>\n",
       "      <td>False</td>\n",
       "      <td>False</td>\n",
       "      <td>False</td>\n",
       "      <td>False</td>\n",
       "      <td>False</td>\n",
       "      <td>False</td>\n",
       "      <td>False</td>\n",
       "      <td>False</td>\n",
       "      <td>False</td>\n",
       "    </tr>\n",
       "    <tr>\n",
       "      <th>51287</th>\n",
       "      <td>False</td>\n",
       "      <td>False</td>\n",
       "      <td>False</td>\n",
       "      <td>False</td>\n",
       "      <td>False</td>\n",
       "      <td>False</td>\n",
       "      <td>False</td>\n",
       "      <td>False</td>\n",
       "      <td>False</td>\n",
       "      <td>False</td>\n",
       "      <td>...</td>\n",
       "      <td>False</td>\n",
       "      <td>False</td>\n",
       "      <td>False</td>\n",
       "      <td>False</td>\n",
       "      <td>False</td>\n",
       "      <td>False</td>\n",
       "      <td>False</td>\n",
       "      <td>False</td>\n",
       "      <td>False</td>\n",
       "      <td>False</td>\n",
       "    </tr>\n",
       "    <tr>\n",
       "      <th>51288</th>\n",
       "      <td>False</td>\n",
       "      <td>False</td>\n",
       "      <td>False</td>\n",
       "      <td>False</td>\n",
       "      <td>False</td>\n",
       "      <td>False</td>\n",
       "      <td>False</td>\n",
       "      <td>True</td>\n",
       "      <td>False</td>\n",
       "      <td>False</td>\n",
       "      <td>...</td>\n",
       "      <td>False</td>\n",
       "      <td>False</td>\n",
       "      <td>False</td>\n",
       "      <td>False</td>\n",
       "      <td>False</td>\n",
       "      <td>False</td>\n",
       "      <td>False</td>\n",
       "      <td>False</td>\n",
       "      <td>False</td>\n",
       "      <td>False</td>\n",
       "    </tr>\n",
       "    <tr>\n",
       "      <th>51289</th>\n",
       "      <td>False</td>\n",
       "      <td>False</td>\n",
       "      <td>False</td>\n",
       "      <td>False</td>\n",
       "      <td>False</td>\n",
       "      <td>False</td>\n",
       "      <td>False</td>\n",
       "      <td>True</td>\n",
       "      <td>False</td>\n",
       "      <td>False</td>\n",
       "      <td>...</td>\n",
       "      <td>False</td>\n",
       "      <td>False</td>\n",
       "      <td>False</td>\n",
       "      <td>False</td>\n",
       "      <td>False</td>\n",
       "      <td>False</td>\n",
       "      <td>False</td>\n",
       "      <td>False</td>\n",
       "      <td>False</td>\n",
       "      <td>False</td>\n",
       "    </tr>\n",
       "  </tbody>\n",
       "</table>\n",
       "<p>51290 rows × 23 columns</p>\n",
       "</div>"
      ],
      "text/plain": [
       "       Order ID  Order Date  Ship Date  Ship Mode  Customer ID  Customer Name  \\\n",
       "0         False       False      False      False        False          False   \n",
       "1         False       False      False      False        False          False   \n",
       "2         False       False      False      False        False          False   \n",
       "3         False       False      False      False        False          False   \n",
       "4         False       False      False      False        False          False   \n",
       "...         ...         ...        ...        ...          ...            ...   \n",
       "51285     False       False      False      False        False          False   \n",
       "51286     False       False      False      False        False          False   \n",
       "51287     False       False      False      False        False          False   \n",
       "51288     False       False      False      False        False          False   \n",
       "51289     False       False      False      False        False          False   \n",
       "\n",
       "       Segment  Postal Code   City  State  ...  Product ID  Category  \\\n",
       "0        False        False  False  False  ...       False     False   \n",
       "1        False         True  False  False  ...       False     False   \n",
       "2        False         True  False  False  ...       False     False   \n",
       "3        False         True  False  False  ...       False     False   \n",
       "4        False         True  False  False  ...       False     False   \n",
       "...        ...          ...    ...    ...  ...         ...       ...   \n",
       "51285    False         True  False  False  ...       False     False   \n",
       "51286    False        False  False  False  ...       False     False   \n",
       "51287    False        False  False  False  ...       False     False   \n",
       "51288    False         True  False  False  ...       False     False   \n",
       "51289    False         True  False  False  ...       False     False   \n",
       "\n",
       "       Sub-Category  Product Name  Sales  Quantity  Discount  Profit  \\\n",
       "0             False         False  False     False     False   False   \n",
       "1             False         False  False     False     False   False   \n",
       "2             False         False  False     False     False   False   \n",
       "3             False         False  False     False     False   False   \n",
       "4             False         False  False     False     False   False   \n",
       "...             ...           ...    ...       ...       ...     ...   \n",
       "51285         False         False  False     False     False   False   \n",
       "51286         False         False  False     False     False   False   \n",
       "51287         False         False  False     False     False   False   \n",
       "51288         False         False  False     False     False   False   \n",
       "51289         False         False  False     False     False   False   \n",
       "\n",
       "       Shipping Cost  Order Priority  \n",
       "0              False           False  \n",
       "1              False           False  \n",
       "2              False           False  \n",
       "3              False           False  \n",
       "4              False           False  \n",
       "...              ...             ...  \n",
       "51285          False           False  \n",
       "51286          False           False  \n",
       "51287          False           False  \n",
       "51288          False           False  \n",
       "51289          False           False  \n",
       "\n",
       "[51290 rows x 23 columns]"
      ]
     },
     "execution_count": 21,
     "metadata": {},
     "output_type": "execute_result"
    }
   ],
   "source": [
    "df.isnull()"
   ]
  },
  {
   "cell_type": "code",
   "execution_count": 23,
   "id": "21c74980",
   "metadata": {},
   "outputs": [
    {
     "data": {
      "text/plain": [
       "Order ID              0\n",
       "Order Date            0\n",
       "Ship Date             0\n",
       "Ship Mode             0\n",
       "Customer ID           0\n",
       "Customer Name         0\n",
       "Segment               0\n",
       "Postal Code       41296\n",
       "City                  0\n",
       "State                 0\n",
       "Country               0\n",
       "Region                0\n",
       "Market                0\n",
       "Product ID            0\n",
       "Category              0\n",
       "Sub-Category          0\n",
       "Product Name          0\n",
       "Sales                 0\n",
       "Quantity              0\n",
       "Discount              0\n",
       "Profit                0\n",
       "Shipping Cost         0\n",
       "Order Priority        0\n",
       "dtype: int64"
      ]
     },
     "execution_count": 23,
     "metadata": {},
     "output_type": "execute_result"
    }
   ],
   "source": [
    "df.isnull().sum()"
   ]
  },
  {
   "cell_type": "code",
   "execution_count": 24,
   "id": "ece302fb",
   "metadata": {},
   "outputs": [
    {
     "data": {
      "text/plain": [
       "(51290, 23)"
      ]
     },
     "execution_count": 24,
     "metadata": {},
     "output_type": "execute_result"
    }
   ],
   "source": [
    "df.shape"
   ]
  },
  {
   "cell_type": "code",
   "execution_count": 25,
   "id": "fbe61dce",
   "metadata": {},
   "outputs": [
    {
     "data": {
      "text/plain": [
       "0.8051472021836615"
      ]
     },
     "execution_count": 25,
     "metadata": {},
     "output_type": "execute_result"
    }
   ],
   "source": [
    "(df['Postal Code'].isnull().sum()/df.shape[0])"
   ]
  },
  {
   "cell_type": "code",
   "execution_count": 29,
   "id": "92ed2fa9",
   "metadata": {},
   "outputs": [
    {
     "data": {
      "image/png": "[encoded data removed]",
      "text/plain": [
       "<Figure size 1080x432 with 1 Axes>"
      ]
     },
     "metadata": {
      "needs_background": "light"
     },
     "output_type": "display_data"
    }
   ],
   "source": [
    "plt.figure(figsize=(15,6))\n",
    "sns.boxplot(data=df,x='Sales');"
   ]
  },
  {
   "cell_type": "code",
   "execution_count": 37,
   "id": "7b080fed",
   "metadata": {},
   "outputs": [
    {
     "data": {
      "image/png": "[encoded data removed]",
      "text/plain": [
       "<Figure size 1080x432 with 1 Axes>"
      ]
     },
     "metadata": {
      "needs_background": "light"
     },
     "output_type": "display_data"
    }
   ],
   "source": [
    "plt.figure(figsize=(15,6))\n",
    "sns.boxplot(data=df,x='Quantity');"
   ]
  },
  {
   "cell_type": "code",
   "execution_count": 38,
   "id": "6448e7e6",
   "metadata": {},
   "outputs": [
    {
     "data": {
      "image/png": "[encoded data removed]",
      "text/plain": [
       "<Figure size 1080x432 with 1 Axes>"
      ]
     },
     "metadata": {
      "needs_background": "light"
     },
     "output_type": "display_data"
    }
   ],
   "source": [
    "plt.figure(figsize=(15,6))\n",
    "sns.boxplot(data=df,x='Discount');"
   ]
  },
  {
   "cell_type": "code",
   "execution_count": 39,
   "id": "1e940f06",
   "metadata": {},
   "outputs": [
    {
     "data": {
      "image/png": "[encoded data removed]",
      "text/plain": [
       "<Figure size 1080x432 with 1 Axes>"
      ]
     },
     "metadata": {
      "needs_background": "light"
     },
     "output_type": "display_data"
    }
   ],
   "source": [
    "plt.figure(figsize=(15,6))\n",
    "sns.boxplot(data=df,x='Profit');"
   ]
  },
  {
   "cell_type": "code",
   "execution_count": 40,
   "id": "1191aa88",
   "metadata": {},
   "outputs": [
    {
     "data": {
      "image/png": "[encoded data removed]",
      "text/plain": [
       "<Figure size 1080x432 with 1 Axes>"
      ]
     },
     "metadata": {
      "needs_background": "light"
     },
     "output_type": "display_data"
    }
   ],
   "source": [
    "plt.figure(figsize=(15,6))\n",
    "sns.boxplot(data=df,x='Shipping Cost');"
   ]
  },
  {
   "cell_type": "code",
   "execution_count": 144,
   "id": "a7363afb",
   "metadata": {
    "scrolled": true
   },
   "outputs": [
    {
     "data": {
      "image/png": "[encoded data removed]",
      "text/plain": [
       "<Figure size 1080x432 with 1 Axes>"
      ]
     },
     "metadata": {
      "needs_background": "light"
     },
     "output_type": "display_data"
    }
   ],
   "source": [
    "plt.figure(figsize=(15,6))\n",
    "sns.boxplot(data=df,x='Postal Code');"
   ]
  },
  {
   "cell_type": "markdown",
   "id": "d2bc5de4",
   "metadata": {},
   "source": [
    "# cleaning"
   ]
  },
  {
   "cell_type": "code",
   "execution_count": 7,
   "id": "11cbb59c",
   "metadata": {},
   "outputs": [
    {
     "data": {
      "text/plain": [
       "0        73120.000000\n",
       "1        55190.379428\n",
       "2        55190.379428\n",
       "3        55190.379428\n",
       "4        55190.379428\n",
       "             ...     \n",
       "51285    55190.379428\n",
       "51286    37421.000000\n",
       "51287    94109.000000\n",
       "51288    55190.379428\n",
       "51289    55190.379428\n",
       "Name: Postal Code, Length: 51290, dtype: float64"
      ]
     },
     "execution_count": 7,
     "metadata": {},
     "output_type": "execute_result"
    }
   ],
   "source": [
    "df['Postal Code'].fillna(df['Postal Code'].mean())"
   ]
  },
  {
   "cell_type": "code",
   "execution_count": 8,
   "id": "a128dacf",
   "metadata": {},
   "outputs": [],
   "source": [
    "df['postal_code']=df['Postal Code'].fillna(df['Postal Code'].mean())"
   ]
  },
  {
   "cell_type": "code",
   "execution_count": 9,
   "id": "a2727857",
   "metadata": {
    "scrolled": false
   },
   "outputs": [
    {
     "data": {
      "text/plain": [
       "0        73120.000000\n",
       "1        55190.379428\n",
       "2        55190.379428\n",
       "3        55190.379428\n",
       "4        55190.379428\n",
       "             ...     \n",
       "51285    55190.379428\n",
       "51286    37421.000000\n",
       "51287    94109.000000\n",
       "51288    55190.379428\n",
       "51289    55190.379428\n",
       "Name: postal_code, Length: 51290, dtype: float64"
      ]
     },
     "execution_count": 9,
     "metadata": {},
     "output_type": "execute_result"
    }
   ],
   "source": [
    "df['postal_code']"
   ]
  },
  {
   "cell_type": "markdown",
   "id": "36557787",
   "metadata": {},
   "source": [
    "# Duplicate"
   ]
  },
  {
   "cell_type": "code",
   "execution_count": 142,
   "id": "f0c15494",
   "metadata": {
    "scrolled": true
   },
   "outputs": [
    {
     "data": {
      "text/plain": [
       "0        False\n",
       "1        False\n",
       "2        False\n",
       "3        False\n",
       "4        False\n",
       "         ...  \n",
       "51285    False\n",
       "51286    False\n",
       "51287    False\n",
       "51288    False\n",
       "51289    False\n",
       "Length: 51290, dtype: bool"
      ]
     },
     "execution_count": 142,
     "metadata": {},
     "output_type": "execute_result"
    }
   ],
   "source": [
    "df.duplicated()"
   ]
  },
  {
   "cell_type": "code",
   "execution_count": 143,
   "id": "7598d2b8",
   "metadata": {},
   "outputs": [
    {
     "data": {
      "text/plain": [
       "0"
      ]
     },
     "execution_count": 143,
     "metadata": {},
     "output_type": "execute_result"
    }
   ],
   "source": [
    "df.duplicated().sum()"
   ]
  },
  {
   "cell_type": "markdown",
   "id": "facf7d12",
   "metadata": {},
   "source": [
    "### EDD"
   ]
  },
  {
   "cell_type": "code",
   "execution_count": 43,
   "id": "452466b8",
   "metadata": {},
   "outputs": [
    {
     "name": "stdout",
     "output_type": "stream",
     "text": [
      "<class 'pandas.core.frame.DataFrame'>\n",
      "RangeIndex: 51290 entries, 0 to 51289\n",
      "Data columns (total 23 columns):\n",
      " #   Column          Non-Null Count  Dtype         \n",
      "---  ------          --------------  -----         \n",
      " 0   Order ID        51290 non-null  object        \n",
      " 1   Order Date      51290 non-null  datetime64[ns]\n",
      " 2   Ship Date       51290 non-null  datetime64[ns]\n",
      " 3   Ship Mode       51290 non-null  object        \n",
      " 4   Customer ID     51290 non-null  object        \n",
      " 5   Customer Name   51290 non-null  object        \n",
      " 6   Segment         51290 non-null  object        \n",
      " 7   Postal Code     9994 non-null   float64       \n",
      " 8   City            51290 non-null  object        \n",
      " 9   State           51290 non-null  object        \n",
      " 10  Country         51290 non-null  object        \n",
      " 11  Region          51290 non-null  object        \n",
      " 12  Market          51290 non-null  object        \n",
      " 13  Product ID      51290 non-null  object        \n",
      " 14  Category        51290 non-null  object        \n",
      " 15  Sub-Category    51290 non-null  object        \n",
      " 16  Product Name    51290 non-null  object        \n",
      " 17  Sales           51290 non-null  float64       \n",
      " 18  Quantity        51290 non-null  int64         \n",
      " 19  Discount        51290 non-null  float64       \n",
      " 20  Profit          51290 non-null  float64       \n",
      " 21  Shipping Cost   51290 non-null  float64       \n",
      " 22  Order Priority  51290 non-null  object        \n",
      "dtypes: datetime64[ns](2), float64(5), int64(1), object(15)\n",
      "memory usage: 9.0+ MB\n"
     ]
    }
   ],
   "source": [
    "df.info()"
   ]
  },
  {
   "cell_type": "code",
   "execution_count": 44,
   "id": "e0398cbb",
   "metadata": {},
   "outputs": [
    {
     "data": {
      "text/plain": [
       "25728"
      ]
     },
     "execution_count": 44,
     "metadata": {},
     "output_type": "execute_result"
    }
   ],
   "source": [
    "df['Order ID'].nunique()"
   ]
  },
  {
   "cell_type": "code",
   "execution_count": 45,
   "id": "f9300f96",
   "metadata": {},
   "outputs": [
    {
     "data": {
      "text/plain": [
       "array(['CA-2014-AB10015140-41954', 'IN-2014-JR162107-41675',\n",
       "       'IN-2014-CR127307-41929', ..., 'IN-2015-KH1633058-42154',\n",
       "       'US-2014-ZD21925140-41765', 'MX-2013-MC1810093-41416'],\n",
       "      dtype=object)"
      ]
     },
     "execution_count": 45,
     "metadata": {},
     "output_type": "execute_result"
    }
   ],
   "source": [
    "df['Order ID'].unique()"
   ]
  },
  {
   "cell_type": "code",
   "execution_count": 46,
   "id": "13243cbc",
   "metadata": {},
   "outputs": [
    {
     "data": {
      "text/plain": [
       "0.5016182491713784"
      ]
     },
     "execution_count": 46,
     "metadata": {},
     "output_type": "execute_result"
    }
   ],
   "source": [
    "df['Order ID'].nunique()/df.shape[0]"
   ]
  },
  {
   "cell_type": "code",
   "execution_count": 47,
   "id": "98f9db5a",
   "metadata": {},
   "outputs": [
    {
     "data": {
      "text/plain": [
       "1430"
      ]
     },
     "execution_count": 47,
     "metadata": {},
     "output_type": "execute_result"
    }
   ],
   "source": [
    "df['Order Date'].nunique()"
   ]
  },
  {
   "cell_type": "code",
   "execution_count": 49,
   "id": "576dbe17",
   "metadata": {},
   "outputs": [
    {
     "data": {
      "text/plain": [
       "array(['2014-11-11T00:00:00.000000000', '2014-02-05T00:00:00.000000000',\n",
       "       '2014-10-17T00:00:00.000000000', ...,\n",
       "       '2012-02-13T00:00:00.000000000', '2013-05-20T00:00:00.000000000',\n",
       "       '2012-02-06T00:00:00.000000000'], dtype='datetime64[ns]')"
      ]
     },
     "execution_count": 49,
     "metadata": {},
     "output_type": "execute_result"
    }
   ],
   "source": [
    "df['Order Date'].unique()"
   ]
  },
  {
   "cell_type": "code",
   "execution_count": 50,
   "id": "8b6fbbf6",
   "metadata": {},
   "outputs": [
    {
     "data": {
      "text/plain": [
       "0.027880678494833302"
      ]
     },
     "execution_count": 50,
     "metadata": {},
     "output_type": "execute_result"
    }
   ],
   "source": [
    "df['Order Date'].nunique()/df.shape[0]"
   ]
  },
  {
   "cell_type": "code",
   "execution_count": 54,
   "id": "1527057a",
   "metadata": {},
   "outputs": [
    {
     "data": {
      "text/plain": [
       "1464"
      ]
     },
     "execution_count": 54,
     "metadata": {},
     "output_type": "execute_result"
    }
   ],
   "source": [
    "df['Ship Date'].nunique()"
   ]
  },
  {
   "cell_type": "code",
   "execution_count": 55,
   "id": "3504f841",
   "metadata": {},
   "outputs": [
    {
     "data": {
      "text/plain": [
       "array(['2014-11-13T00:00:00.000000000', '2014-02-07T00:00:00.000000000',\n",
       "       '2014-10-18T00:00:00.000000000', ...,\n",
       "       '2013-04-08T00:00:00.000000000', '2013-02-26T00:00:00.000000000',\n",
       "       '2012-05-15T00:00:00.000000000'], dtype='datetime64[ns]')"
      ]
     },
     "execution_count": 55,
     "metadata": {},
     "output_type": "execute_result"
    }
   ],
   "source": [
    "df['Ship Date'].unique()"
   ]
  },
  {
   "cell_type": "code",
   "execution_count": 56,
   "id": "94acbd1e",
   "metadata": {},
   "outputs": [
    {
     "data": {
      "text/plain": [
       "0.028543575745759407"
      ]
     },
     "execution_count": 56,
     "metadata": {},
     "output_type": "execute_result"
    }
   ],
   "source": [
    "df['Ship Date'].nunique()/df.shape[0]"
   ]
  },
  {
   "cell_type": "code",
   "execution_count": 57,
   "id": "fa0c15ff",
   "metadata": {},
   "outputs": [
    {
     "data": {
      "text/plain": [
       "4"
      ]
     },
     "execution_count": 57,
     "metadata": {},
     "output_type": "execute_result"
    }
   ],
   "source": [
    "df['Ship Mode'].nunique()"
   ]
  },
  {
   "cell_type": "code",
   "execution_count": 58,
   "id": "e258734f",
   "metadata": {},
   "outputs": [
    {
     "data": {
      "text/plain": [
       "array(['First Class', 'Second Class', 'Same Day', 'Standard Class'],\n",
       "      dtype=object)"
      ]
     },
     "execution_count": 58,
     "metadata": {},
     "output_type": "execute_result"
    }
   ],
   "source": [
    "df['Ship Mode'].unique()"
   ]
  },
  {
   "cell_type": "code",
   "execution_count": 59,
   "id": "4c7d1b1e",
   "metadata": {},
   "outputs": [
    {
     "data": {
      "text/plain": [
       "7.798791187365959e-05"
      ]
     },
     "execution_count": 59,
     "metadata": {},
     "output_type": "execute_result"
    }
   ],
   "source": [
    "df['Ship Mode'].nunique()/df.shape[0]"
   ]
  },
  {
   "cell_type": "code",
   "execution_count": 60,
   "id": "6a80f2e0",
   "metadata": {},
   "outputs": [
    {
     "data": {
      "text/plain": [
       "17415"
      ]
     },
     "execution_count": 60,
     "metadata": {},
     "output_type": "execute_result"
    }
   ],
   "source": [
    "df['Customer ID'].nunique()"
   ]
  },
  {
   "cell_type": "code",
   "execution_count": 61,
   "id": "aeace324",
   "metadata": {},
   "outputs": [
    {
     "data": {
      "text/plain": [
       "array(['AB-100151402', 'JR-162107', 'CR-127307', ..., 'ZD-219251402',\n",
       "       'AS-285147', 'MC-1810093'], dtype=object)"
      ]
     },
     "execution_count": 61,
     "metadata": {},
     "output_type": "execute_result"
    }
   ],
   "source": [
    "df['Customer ID'].unique()"
   ]
  },
  {
   "cell_type": "code",
   "execution_count": 62,
   "id": "eb4d1705",
   "metadata": {},
   "outputs": [
    {
     "data": {
      "text/plain": [
       "0.3395398713199454"
      ]
     },
     "execution_count": 62,
     "metadata": {},
     "output_type": "execute_result"
    }
   ],
   "source": [
    "df['Customer ID'].nunique()/df.shape[0]"
   ]
  },
  {
   "cell_type": "code",
   "execution_count": 64,
   "id": "e2e316ae",
   "metadata": {},
   "outputs": [
    {
     "data": {
      "text/plain": [
       "796"
      ]
     },
     "execution_count": 64,
     "metadata": {},
     "output_type": "execute_result"
    }
   ],
   "source": [
    "df['Customer Name'].nunique()"
   ]
  },
  {
   "cell_type": "code",
   "execution_count": 65,
   "id": "a30e8127",
   "metadata": {},
   "outputs": [
    {
     "data": {
      "text/plain": [
       "array(['Aaron Bergman', 'Justin Ritter', 'Craig Reiter',\n",
       "       'Katherine Murray', 'Rick Hansen', 'Jim Mitchum', 'Toby Swindell',\n",
       "       'Mick Brown', 'Anthony Jacobs', 'Magdelene Morse',\n",
       "       'Vicky Freymann', 'Peter Fuller', 'Ben Peterman', 'Patrick Jones',\n",
       "       'Jim Sink', 'Ritsa Hightower', 'Ann Blume', 'Jason Klamczynski',\n",
       "       'Laurel Beltran', 'Naresj Patel', 'Valerie Dominguez',\n",
       "       'Phillip Breyer', 'Eugene Barchas', 'Aaron Hawkins',\n",
       "       'Benjamin Patterson', 'Rick Reed', 'Bill Shonely', 'Dave Poirier',\n",
       "       \"Patrick O'Donnell\", 'Dan Lawera', 'Joy Bell-', 'Barry Franz',\n",
       "       'Vivek Grady', 'Greg Tran', 'Zuschuss Carroll', 'Ellis Ballard',\n",
       "       'Arthur Prichep', 'Scott Williamson', 'John Huston',\n",
       "       'Trudy Glocke', 'Deirdre Greer', 'Sheri Gordon', 'Guy Phonely',\n",
       "       'Mitch Webber', 'Chuck Sachs', 'Michael Stewart',\n",
       "       'Kimberly Carter', 'Denny Blanton', 'Aaron Smayling', 'Dave Kipp',\n",
       "       'Cari Sayre', 'Evan Minnotte', 'Dianna Wilson',\n",
       "       'Alan Schoenberger', 'Shui Tom', 'Barry Weirich',\n",
       "       'Laura Armstrong', 'Aimee Bixby', 'Bobby Elias', 'Sam Zeldin',\n",
       "       'Raymond Messe', 'Harry Greene', 'Anne McFarland',\n",
       "       'Alejandro Ballentine', 'Rachel Payne', 'Berenike Kampe',\n",
       "       'Janet Martin', 'Nick Zandusky', 'Steve Chapman', 'Noah Childs',\n",
       "       'Natalie Fritzler', 'Paul MacIntyre', 'Maria Zettner',\n",
       "       'Henry MacAllister', 'Rick Wilson', 'Logan Haushalter',\n",
       "       'Fred Hopkins', 'Khloe Miller', 'Adam Bellavance', 'Dave Brooks',\n",
       "       'Valerie Mitchum', 'Don Miller', 'Neoma Murray', 'Lena Creighton',\n",
       "       \"Rose O'Brian\", 'Erin Mull', 'Odella Nelson', 'Vivek Sundaresam',\n",
       "       'Chad McGuire', 'Don Weiss', 'Gary McGarr', 'Stuart Van',\n",
       "       'Michael Moore', 'Julie Kriz', 'Alyssa Tate', 'Paul Van Hugh',\n",
       "       'Sean Braxton', 'Sally Matthias', 'Katharine Harms',\n",
       "       'Mike Pelletier', 'Lisa Hazard', 'Corey Roper', 'Greg Matthias',\n",
       "       'Ryan Akin', 'Roland Fjeld', 'Dario Medina', 'Bill Eplett',\n",
       "       \"Sean O'Donnell\", 'Damala Kotsonis', 'Liz Carlisle', 'Claire Gute',\n",
       "       'Hunter Glantz', 'Alan Dominguez', 'Becky Pak', 'Andrew Allen',\n",
       "       'Rob Lucas', 'Scot Wooten', 'Bart Watters', 'Yoseph Carroll',\n",
       "       'Jill Matthias', 'Jason Fortune-', 'Don Jones', 'Monica Federle',\n",
       "       'Toby Carlisle', 'Christine Phan', 'Eugene Hildebrand',\n",
       "       'Nat Carroll', 'Joy Smith', 'Alice McCarthy', 'Jamie Frazer',\n",
       "       'James Galang', 'Adam Hart', 'Alex Grayson', 'Neil Französisch',\n",
       "       'Daniel Raglin', 'Nona Balk', 'Nathan Mautz', 'Tom Ashbrook',\n",
       "       'Shahid Collister', 'Pete Armstrong', 'Rob Beeghly',\n",
       "       'Larry Hughes', 'Ken Black', 'Mary Zewe', 'Denise Monton',\n",
       "       'Carol Adams', 'Sean Christensen', 'Mick Hernandez', 'Karen Seio',\n",
       "       'Bruce Geld', 'John Lee', 'Anne Pryor', 'Cyra Reiten', 'Bart Folk',\n",
       "       'Janet Molinari', 'Tamara Willingham', 'Randy Bradley',\n",
       "       'Jim Radford', 'Maribeth Dona', 'Emily Phan', 'Maxwell Schwartz',\n",
       "       'Corinna Mitchell', 'Julie Creighton', 'George Bell',\n",
       "       'Justin Hirsh', 'Michelle Tran', 'Adrian Barton', 'Cynthia Voltz',\n",
       "       'Nicole Hansen', 'Heather Jas', 'James Lanier', 'Muhammed Yedwab',\n",
       "       'Kelly Collister', 'Helen Andreada', 'Meg Tillman',\n",
       "       'Fred Wasserman', 'Brosina Hoffman', 'Dana Kaydos',\n",
       "       'Karen Daniels', 'Sung Chung', 'Craig Yedwab', 'Hunter Lopez',\n",
       "       'Carol Triggs', 'Christopher Conant', 'Georgia Rosenberg',\n",
       "       'Ted Trevino', 'Phillina Ober', 'Emily Ducich', 'Tony Molinari',\n",
       "       'Anthony Witt', 'Speros Goranitis', 'Bryan Mills', 'Dennis Kane',\n",
       "       'Adam Shillingsburg', 'Sarah Foster', 'Jane Waco',\n",
       "       'Chad Cunningham', \"Russell D'Ascenzo\", 'Sue Ann Reed',\n",
       "       'Eleni McCrary', 'Charles Sheldon', 'Julia Dunbar', 'Greg Hansen',\n",
       "       'Carlos Meador', 'Rick Bensley', 'Ross Baird', 'Thomas Seio',\n",
       "       'Mike Vittorini', 'Brendan Dodson', 'Pamela Stobb',\n",
       "       'Filia McAdams', 'Cynthia Arntzen', 'Cynthia Delaney',\n",
       "       'Nancy Lomonaco', 'Ted Butterfield', 'Keith Dawkins',\n",
       "       'Ken Brennan', 'Maureen Gnade', 'Beth Paige', 'Henia Zydlo',\n",
       "       'Elizabeth Moffitt', 'Bryan Spruell', 'Dianna Vittorini',\n",
       "       'Maria Bertelson', 'Pauline Chand', 'Christine Abelman',\n",
       "       'Duane Benoit', 'Karl Braun', 'Pete Kriz', 'Art Foster',\n",
       "       'Shirley Jackson', 'Corey Catlett', 'Brad Eason', 'Skye Norling',\n",
       "       'Christina DeMoss', 'Barry Gonzalez', 'Clay Cheatham',\n",
       "       'Stewart Visinsky', 'Helen Wasserman', 'Alejandro Savely',\n",
       "       'Lela Donovan', 'Neola Schneider', 'Craig Molinari',\n",
       "       'Maureen Gastineau', 'Dean Braden', 'Cari Schnelling',\n",
       "       'Brad Norvell', 'Greg Guthrie', 'Brian Stugart', 'Amy Cox',\n",
       "       'Chloris Kastensmidt', 'Justin Deggeller', 'Melanie Seite',\n",
       "       'Craig Leslie', 'Charles McCrossin', 'John Castell',\n",
       "       'Lena Hernandez', 'Darrin Van Huff', 'Bradley Talbott',\n",
       "       'Brian Moss', 'Mitch Gastineau', 'Frank Carlisle',\n",
       "       'Thomas Thornton', 'Sarah Jordon', 'Patrick Bzostek',\n",
       "       'Robert Waldorf', 'Dennis Bolton', 'David Kendrick',\n",
       "       'Penelope Sewall', \"Meg O'Connel\", 'Mathew Reese',\n",
       "       'Christy Brittain', 'Ruben Ausman', 'Mike Gockenbach',\n",
       "       'Eric Murdock', 'Denny Joy', 'Carlos Daly', 'Bobby Odegard',\n",
       "       'Kunst Miller', 'Brooke Gillingham', 'Chad Sievert', 'Brian Derr',\n",
       "       'Randy Ferguson', 'Justin Ellison', 'Cindy Chapman', 'Larry Tron',\n",
       "       'Barbara Fisher', 'Caroline Jumper', 'Sally Hughsby',\n",
       "       'Sara Luxemburg', 'Jennifer Braxton', 'Tim Brockman',\n",
       "       'Paul Stevenson', 'Brenda Bowman', 'Susan Pistek', 'Dean percer',\n",
       "       'Gary Zandusky', 'Cassandra Brandow', 'Sample Company A',\n",
       "       'Scot Coram', 'Jill Stevenson', 'Bill Stewart', 'Jack Lebron',\n",
       "       'Ed Ludwig', 'Frank Hawley', 'Sean Miller', 'Peter McVee',\n",
       "       'Tom Stivers', 'Lynn Smith', 'Candace McMahon', 'Frank Gastineau',\n",
       "       'Kristina Nunn', 'Tracy Blumstein', 'Keith Herrera',\n",
       "       'Denise Leinenbach', 'Katherine Nockton', 'Susan Vittorini',\n",
       "       'Michael Dominguez', 'Luke Schmidt', 'John Murray', 'Chuck Magee',\n",
       "       'Saphhira Shifley', 'Jim Epp', 'Gary Hwang', 'Juliana Krohn',\n",
       "       'Duane Huffman', 'Muhammed MacIntyre', 'Art Ferguson',\n",
       "       'Tony Sayre', 'Brendan Murry', 'Andrew Gjertsen', 'Anna Gayman',\n",
       "       'Steven Ward', 'Sally Knutson', 'Arthur Gainer', 'Astrea Jones',\n",
       "       'Marc Crier', 'Ed Jacobs', 'Maribeth Schnelling', 'Harold Engle',\n",
       "       'Sarah Bern', 'Valerie Takahito', 'Becky Castell', 'Nicole Fjeld',\n",
       "       'Adrian Hane', 'Carlos Soltero', 'Laurel Workman', 'Rob Dowd',\n",
       "       'Brian Thompson', 'Thomas Boland', 'Charles Crestani',\n",
       "       'Xylona Preis', 'Todd Sumrall', 'Maris LaWare', 'Quincy Jones',\n",
       "       'Richard Eichhorn', 'Cathy Prescott', 'Joe Kamberova',\n",
       "       'Anemone Ratner', 'Erica Hernandez', 'Jocasta Rupert',\n",
       "       'Paul Lucas', 'Theresa Coyne', 'Lindsay Williams', 'Dorris liebe',\n",
       "       'Sanjit Chand', 'Eric Barreto', 'Daniel Lacy', 'Frank Merwin',\n",
       "       'David Philippe', 'Clytie Kelty', 'Cari MacIntyre',\n",
       "       'Maria Etezadi', 'Cindy Schnelling', 'Gary Hansen',\n",
       "       'Matthew Clasen', 'Liz MacKendrick', 'Andrew Roberts',\n",
       "       'Jonathan Howell', 'Chris McAfee', 'Emily Grady', 'Ann Steele',\n",
       "       'Carl Ludwig', 'Christina Anderson', 'Darren Budd', 'Adrian Shami',\n",
       "       'Maureen Fritzler', 'Erica Bern', 'Mark Van Huff',\n",
       "       'Joni Wasserman', 'Matt Collins', 'Jennifer Ferguson',\n",
       "       'Alan Hwang', 'Katherine Ducich', 'Troy Staebel', 'Paul Gonzalez',\n",
       "       'Heather Kirkland', 'Hilary Holden', 'Ralph Ritter',\n",
       "       'Stefanie Holloman', 'Roy Phan', 'Lisa Ryan', 'Ionia McGrath',\n",
       "       'Darren Koutras', 'Evan Henry', 'Marina Lichtenstein',\n",
       "       'Benjamin Farhat', 'Kean Nguyen', 'Hallie Redmond', 'Cyma Kinney',\n",
       "       'Alan Barnes', 'Amy Hunt', 'Angele Hood', 'Richard Bierner',\n",
       "       'Andy Gerbode', 'Alex Russell', 'Tiffany House', 'Liz Thompson',\n",
       "       'Harold Dahlen', 'Harry Marie', 'Charlotte Melton', 'Sarah Brown',\n",
       "       'Erica Smith', 'Mark Cousins', 'Craig Carroll', 'Irene Maddox',\n",
       "       'Dianna Arnett', 'Tamara Chand', 'Sean Wendt', 'Maribeth Yedwab',\n",
       "       'Henry Goldwyn', 'Debra Catini', 'Delfina Latchford', 'Jay Kimmel',\n",
       "       'Cathy Hwang', 'Mark Haberlin', 'Michael Chen', 'Pauline Webber',\n",
       "       'Brendan Sweed', 'Denny Ordway', 'Susan Gilcrest',\n",
       "       'Thomas Brumley', 'Becky Martin', 'Victoria Pisteka',\n",
       "       'Lena Radford', 'Tracy Hopkins', 'Theone Pippenger', 'Janet Lee',\n",
       "       'Ralph Kennedy', 'Craig Carreira', 'Christopher Martinez',\n",
       "       'Michael Granlund', 'Bill Tyler', 'Russell Applegate',\n",
       "       'Tim Taslimi', 'Darrin Martin', 'Vivek Gonzalez', 'Natalie Webber',\n",
       "       'Victor Preis', 'Shahid Shariari', 'Alan Haines',\n",
       "       'Alejandro Grove', 'Ben Wallace', 'Steven Cartwright',\n",
       "       'Brian Dahlen', 'Peter Bühler', 'Grace Kelly', 'Sonia Cooley',\n",
       "       'Annie Zypern', 'Ivan Gibson', 'Sung Pak', 'Kalyca Meade',\n",
       "       'Michelle Moray', 'Raymond Buch', 'Nathan Cano', 'Steve Nguyen',\n",
       "       'Carl Jackson', 'Andy Yotov', 'Mark Packer', 'Pauline Johnson',\n",
       "       'Benjamin Venier', 'Eugene Moren', 'George Zrebassa',\n",
       "       'Parhena Norris', 'Stuart Calhoun', 'Tonja Turnell',\n",
       "       'Alyssa Crouse', 'Catherine Glotzbach', 'Clay Rozendal',\n",
       "       'Toby Ritter', 'Shaun Chance', 'Joel Eaton', 'Michelle Huthwaite',\n",
       "       'Joni Blumstein', 'Giulietta Weimer', 'Frank Olsen', 'Luke Weiss',\n",
       "       'Karen Bern', 'Kelly Andreada', 'John Dryer', 'John Lucas',\n",
       "       'Julia West', 'Lauren Leatherbury', 'Thea Hendricks',\n",
       "       'Nathan Gelder', 'Ken Dana', 'Matt Connell', 'Jim Karlsson',\n",
       "       'Bradley Drucker', 'Liz Pelletier', \"Mary O'Rourke\",\n",
       "       'MaryBeth Skach', 'George Ashbrook', 'Christine Sundaresam',\n",
       "       'Philip Fox', 'Gene McClure', 'Alan Shonely', 'Harold Ryan',\n",
       "       'Rob Haberlin', 'Michael Nguyen', 'Resi Pölking', 'Paul Knutson',\n",
       "       'Linda Southworth', 'Mick Crebagga', 'Eric Hoffmann',\n",
       "       'Justin MacKendrick', 'Michelle Arnett', 'Stephanie Phelps',\n",
       "       'Jennifer Halladay', \"Patrick O'Brill\", 'Max Ludwig',\n",
       "       'Pamela Coakley', 'Katrina Edelman', 'Steve Carroll', 'John Grady',\n",
       "       'Roland Schwarz', 'Guy Armstrong', 'Guy Thornton', 'Patrick Ryan',\n",
       "       'Anthony Garverick', 'Sanjit Engle', 'Julia Barnett',\n",
       "       \"Jas O'Carroll\", 'Philisse Overcash', 'Eva Jacobs', 'Gary Mitchum',\n",
       "       'Susan MacKendrick', 'Arthur Wiediger', 'Olvera Toch',\n",
       "       'Jennifer Patt', 'Trudy Brown', 'Jeremy Pistek', 'Bryan Davis',\n",
       "       'Greg Maxwell', 'Natalie DeCherney', 'Tom Zandusky',\n",
       "       'Jeremy Ellison', 'Arianne Irving', 'David Smith', 'Anna Chung',\n",
       "       'Chuck Clark', 'Nat Gilpin', 'Anthony Rawles', 'Roy Collins',\n",
       "       'Joy Daniels', 'Linda Cazamias', 'David Wiener', 'Ruben Dartt',\n",
       "       'Rick Duston', 'Lycoris Saunders', 'Giulietta Dortch',\n",
       "       'Edward Becker', 'Katherine Hughes', 'Beth Fritzler', 'Corey-Lock',\n",
       "       'Sylvia Foulston', 'Katrina Bavinger', 'Lena Cacioppo',\n",
       "       'Jeremy Lonsdale', 'Bruce Degenhardt', 'Tamara Manning',\n",
       "       'Fred McMath', 'Dave Hallsten', 'Nora Paige', 'Doug Jacobs',\n",
       "       'Sanjit Jacobs', 'Muhammed Lee', 'Phillip Flathmann',\n",
       "       'Matt Abelman', 'Marc Harrigan', 'Victoria Brennan',\n",
       "       'Nick Radford', 'Dionis Lloyd', 'Patricia Hirasaki',\n",
       "       'Cathy Armstrong', 'Alex Avila', 'Aleksandra Gannaway',\n",
       "       'Roger Barcio', 'Liz Preis', 'Ed Braxton', 'Michael Grace',\n",
       "       'Matthew Grinstein', 'Nora Pelletier', 'Matt Collister',\n",
       "       'Brad Thomas', 'Emily Burns', 'Erin Ashbrook', 'Fred Harton',\n",
       "       'Allen Armold', 'Bradley Nguyen', 'Ricardo Emerson', 'Neil Ducich',\n",
       "       'Michelle Lonsdale', 'Sibella Parks', 'Sandra Flanagan',\n",
       "       'Luke Foster', 'Ken Heidel', 'Anna Andreadi', 'Kean Takahito',\n",
       "       'Kelly Williams', 'Mitch Willingham', 'Frank Atkinson',\n",
       "       'Jill Fjeld', 'Katrina Willman', 'Lori Olson', 'Bruce Stewart',\n",
       "       'Herbert Flentye', 'Michael Paige', 'Jennifer Jackson',\n",
       "       'Joe Elijah', 'Erin Smith', 'Fred Chung', 'Theresa Swint',\n",
       "       'Jasper Cacioppo', 'Maya Herman', 'Roy Französisch',\n",
       "       'Patrick Gardner', 'Victoria Wilson', \"Doug O'Connell\",\n",
       "       'Ralph Arnett', 'Grant Thornton', 'Doug Bickford',\n",
       "       'Shirley Daniels', 'Joseph Holt', 'Allen Goldenen',\n",
       "       'Michelle Ellison', 'Ben Ferrer', 'Logan Currie', 'Anna Häberlin',\n",
       "       'Edward Hooks', 'Robert Dilbeck', 'Carol Darley', 'Clay Ludtke',\n",
       "       'Jay Fein', 'Allen Rosenblatt', 'Stefania Perrino',\n",
       "       'Erin Creighton', 'Todd Boyes', 'David Flashing', 'Sonia Sunley',\n",
       "       'Roger Demir', 'Julie Prescott', 'Paul Prost', 'Jenna Caffey',\n",
       "       'Matt Hagelstein', 'Noel Staavos', 'Tracy Zic', 'Annie Thurman',\n",
       "       'Karen Carlisle', 'Helen Abelman', 'Jason Gross',\n",
       "       'Chris Selesnick', 'Yana Sorensen', 'Tracy Collins',\n",
       "       'Neil Knudson', 'Beth Thompson', 'Toby Gnade', 'Ashley Jarboe',\n",
       "       'Kristen Hastings', 'Darren Powers', 'Larry Blacks',\n",
       "       'Elpida Rittenbach', 'Maurice Satty', 'Lindsay Castell',\n",
       "       'Barry Französisch', 'Joel Jenkins', 'Kelly Lampkin', 'Gene Hale',\n",
       "       'Ross DeVincentis', 'Deanra Eno', 'Sam Craven', 'Dorothy Wardle',\n",
       "       'Jim Kriz', 'Carl Weiss', 'Christine Kargatis', 'Bart Pistole',\n",
       "       'Jack Garza', 'Philip Brown', 'Ken Lonsdale', 'Michael Oakman',\n",
       "       'Bill Donatelli', 'John Stevenson', 'Christopher Schild',\n",
       "       'Andy Reiter', 'Giulietta Baptist', 'Nora Preis', 'Ryan Crowe',\n",
       "       \"Anthony O'Donnell\", 'Tom Boeckenhauer', 'Cindy Stewart',\n",
       "       'Sharelle Roach', 'Thea Hudgings', 'Eudokia Martin',\n",
       "       'Bill Overfelt', 'Dorothy Dickinson', \"Jack O'Briant\",\n",
       "       'Karen Ferguson', 'Ann Chong', 'Daniel Byrd', 'Joseph Airdo',\n",
       "       'Steven Roelle', 'Duane Noonan', 'Mike Caudle', 'Lisa DeCherney',\n",
       "       'Bobby Trafton', 'Shaun Weien', 'Max Jones',\n",
       "       'Christina VanderZanden', 'Nick Crebassa', 'Suzanne McNair',\n",
       "       'Troy Blackwell', 'Pete Takahito', 'Stewart Carmichael',\n",
       "       'Tom Prescott', 'Jonathan Doherty', 'Erica Hackney',\n",
       "       'Mark Hamilton', 'Zuschuss Donatelli', 'Barry Pond',\n",
       "       'Claudia Bergmann', 'Harold Pawlan', 'Stephanie Ulpright',\n",
       "       'Roy Skaria', 'Jamie Kunitz', 'Tanja Norvell', 'Brian DeCherney',\n",
       "       'Kean Thornton', 'Joni Sundaresam', 'Scott Cohen',\n",
       "       'Deborah Brumfield', 'Eileen Kiefer', 'Trudy Schmidt',\n",
       "       'Liz Willingham', 'Michael Kennedy', 'Laurel Elliston',\n",
       "       'Tamara Dahlen', 'Lindsay Shagiari', 'Dorothy Badders',\n",
       "       'Seth Vernon', 'Frank Preis', 'Shahid Hopkins', 'Sandra Glassco',\n",
       "       'Dean Katz', 'Jessica Myrick', 'Anthony Johnson', 'Tracy Poddar',\n",
       "       'Darrin Sayre', 'Jesus Ocampo', 'David Bremer', 'Pierre Wener',\n",
       "       'Mike Kennedy', 'Toby Braunhardt', 'Sung Shariari',\n",
       "       'Barry Blumstein', 'Jeremy Farry', 'Max Engle', 'Kai Rey',\n",
       "       'Shirley Schmidt', 'Robert Barroso', 'Roland Murray',\n",
       "       'Evan Bailliet', 'Dan Reichenbach', 'Dan Campbell',\n",
       "       'Rick Huthwaite', 'Tony Chapman', 'William Brown', 'Dennis Pardue',\n",
       "       'Nicole Brennan', 'Robert Marley', 'Ricardo Sperren',\n",
       "       'Vivian Mathis', 'Rob Williams', 'Edward Nazzal', 'Chris Cortes',\n",
       "       'Thais Sissman', 'Ivan Liston'], dtype=object)"
      ]
     },
     "execution_count": 65,
     "metadata": {},
     "output_type": "execute_result"
    }
   ],
   "source": [
    "df['Customer Name'].unique()"
   ]
  },
  {
   "cell_type": "code",
   "execution_count": 66,
   "id": "70363252",
   "metadata": {},
   "outputs": [
    {
     "data": {
      "text/plain": [
       "0.015519594462858256"
      ]
     },
     "execution_count": 66,
     "metadata": {},
     "output_type": "execute_result"
    }
   ],
   "source": [
    "df['Customer Name'].nunique()/df.shape[0]"
   ]
  },
  {
   "cell_type": "code",
   "execution_count": 71,
   "id": "570b8fd8",
   "metadata": {},
   "outputs": [
    {
     "data": {
      "text/plain": [
       "3"
      ]
     },
     "execution_count": 71,
     "metadata": {},
     "output_type": "execute_result"
    }
   ],
   "source": [
    "df['Segment'].nunique()"
   ]
  },
  {
   "cell_type": "code",
   "execution_count": 72,
   "id": "bf332b64",
   "metadata": {},
   "outputs": [
    {
     "data": {
      "text/plain": [
       "array(['Consumer', 'Corporate', 'Home Office'], dtype=object)"
      ]
     },
     "execution_count": 72,
     "metadata": {},
     "output_type": "execute_result"
    }
   ],
   "source": [
    "df['Segment'].unique()"
   ]
  },
  {
   "cell_type": "code",
   "execution_count": 73,
   "id": "719200a6",
   "metadata": {},
   "outputs": [
    {
     "data": {
      "text/plain": [
       "5.8490933905244686e-05"
      ]
     },
     "execution_count": 73,
     "metadata": {},
     "output_type": "execute_result"
    }
   ],
   "source": [
    "df['Segment'].nunique()/df.shape[0]"
   ]
  },
  {
   "cell_type": "code",
   "execution_count": 75,
   "id": "7d4b042a",
   "metadata": {},
   "outputs": [
    {
     "data": {
      "text/plain": [
       "631"
      ]
     },
     "execution_count": 75,
     "metadata": {},
     "output_type": "execute_result"
    }
   ],
   "source": [
    "df['Postal Code'].nunique()"
   ]
  },
  {
   "cell_type": "code",
   "execution_count": 76,
   "id": "75bfe926",
   "metadata": {},
   "outputs": [
    {
     "data": {
      "text/plain": [
       "array([73120.,    nan, 98103., 76017., 12180., 94122., 90004., 10035.,\n",
       "       39503., 94109., 19134., 28540., 78745., 94110., 97756., 91104.,\n",
       "       22204., 98105., 10009., 22980., 46142.,  3301., 98198., 19143.,\n",
       "        2920., 10011., 90036., 89015., 19013., 37918., 30318., 92646.,\n",
       "       43229., 65807., 22901., 92037., 75061., 60653., 48205., 77581.,\n",
       "       42420., 46203., 97206., 85023., 77041., 61701., 97301., 85705.,\n",
       "       77036., 40214., 60505., 75217., 98002., 10701., 11561., 75007.,\n",
       "       75220., 74133., 90045., 37087., 43615., 90712., 62521., 80027.,\n",
       "       98006., 59405.,  6824., 19120., 33319., 18018., 60623., 10024.,\n",
       "       92804., 94513., 37211., 36116., 84604., 80501., 33614., 90049.,\n",
       "       19140., 22153., 44105., 90278., 88220., 75023., 44052., 39212.,\n",
       "       90008., 68104.,  1841., 84084., 46060., 60067., 75081.,  2038.,\n",
       "       89115., 78664., 55407., 85204., 77095., 95207., 28205., 77070.,\n",
       "       90032., 75051.,  2908., 91730., 45231., 39401., 48183.,  6450.,\n",
       "       44312., 70506., 85323., 33024., 38134., 35601., 48234.,  6457.,\n",
       "       28027., 33710., 22304., 85345., 23223., 49201.,  2895.,  2169.,\n",
       "       92054., 31907., 33142., 98115., 14609., 77705., 77506., 33437.,\n",
       "        1852., 40324., 92105., 44134., 77340., 46226., 75002., 24153.,\n",
       "       53209., 92024., 33317., 23464., 33134., 30076., 36830., 60016.,\n",
       "        2148., 33311., 35630., 75034.,  7960.,  6010., 60090., 23666.,\n",
       "        1915., 21215., 85254., 32137., 92307., 32216., 94521., 98661.,\n",
       "       93309., 87401., 23320., 98031., 85301., 95661.,  7055., 77840.,\n",
       "       60610., 92672., 33030., 45014., 33065., 54703.,  6708., 80525.,\n",
       "       80219., 29730., 59601., 48227., 48180., 28403., 85224., 47201.,\n",
       "       28314.,  8360., 78207., 85635., 90301., 80013., 95351., 54302.,\n",
       "       71203., 38109., 75056., 27405.,  7060., 27604., 79907., 93030.,\n",
       "       33180., 61604., 99207., 92020., 79762., 92677., 93101.,  7501.,\n",
       "       17602., 95823., 80004., 60076., 87105., 45373., 74012., 37167.,\n",
       "       50315., 11572., 92404., 92704., 33178., 60201., 91776., 92627.,\n",
       "       54880., 95695., 13440., 55113.,  8701., 43402., 67846., 16602.,\n",
       "       54915., 43130., 40475., 60423., 80122., 66062., 27511., 20735.,\n",
       "       23602., 55044., 94601., 21044., 76106., 63301., 93727., 20877.,\n",
       "       90640., 85234., 73505., 42104., 48104., 44035., 43055.,  6460.,\n",
       "       60098., 13601., 19711., 37604., 33012., 33445., 98026., 60089.,\n",
       "       32725., 22801., 33801.,  2149., 59715., 92530., 67212., 11520.,\n",
       "        2886., 77642., 57701., 35244., 44107., 75701., 97504., 55901.,\n",
       "       55124., 18103.,  7017., 76706., 45011., 75104., 37620., 62301.,\n",
       "       98042.,  6360., 80112.,  2740., 78521., 38401., 52240., 37421.,\n",
       "       13501., 98059., 32712., 78501., 97123., 95051., 11550., 46350.,\n",
       "       92683., 42301., 72209., 71111., 29203., 55125., 76117., 19805.,\n",
       "       71901., 84057., 33021., 43017., 90805., 29406., 95123., 58103.,\n",
       "       98052., 92374., 56560., 77301., 27360., 91767.,  5408., 38671.,\n",
       "       93010., 44221., 27514., 97030., 19601., 50322., 93534., 60126.,\n",
       "       43123., 30062., 27707., 49505., 29501., 47401., 79424., 80906.,\n",
       "       41042., 45503.,  7036.,  6484., 92553., 68025., 33407., 97477.,\n",
       "       93905., 37064., 33161., 48066., 76248., 53142., 33023., 61107.,\n",
       "       92630., 27834., 55122., 61761., 70601., 48146., 85364., 37075.,\n",
       "       47150., 94533., 32839., 83642., 43302., 94591., 79109., 14701.,\n",
       "       28601., 34952.,  7090., 84107., 55369.,  2151., 52001., 55016.,\n",
       "       31088.,  7050., 60441., 88001., 28806., 84106., 92503., 48185.,\n",
       "       79605., 89031., 35401., 53132., 20016., 91360., 85281., 37130.,\n",
       "       38301., 72701., 71603., 76063., 65109., 14215., 95240., 92025.,\n",
       "        3820., 57103., 30328., 55106., 96003., 60540., 72401., 48127.,\n",
       "       54601., 48911., 45040., 32935., 26003., 84043., 78041., 65203.,\n",
       "       77803., 90503., 81001., 75150., 60440., 35810.,  8861., 87124.,\n",
       "       77590., 86442., 75080., 78577., 19901., 28110., 13021., 98226.,\n",
       "       98208., 92345., 27217., 95928., 94509., 72756., 48858.,  1453.,\n",
       "       78550., 47374.,  2138., 80538., 83704., 70065., 10801., 84020.,\n",
       "       30605., 42071., 83201., 89502.,  6040., 14304., 34741., 48187.,\n",
       "       59801., 84321., 48310.,  8401., 94086., 89431., 53186., 57401.,\n",
       "       10550., 48640., 53711., 32127., 95616., 98502.,  8302., 80020.,\n",
       "       36608., 20852., 32303., 31204.,  7109., 75019., 44240., 49423.,\n",
       "       92691., 76903., 60068., 75043., 48601., 98632., 91911.,  6810.,\n",
       "       74403., 83301., 66212., 56301., 95336., 60035., 61032., 72762.,\n",
       "       97224., 93277., 77536., 91761., 63122., 37042., 73071., 84062.,\n",
       "       84041., 94568.,  7601.,  4401., 60477., 90604., 30188., 80229.,\n",
       "       61821., 46514., 44256., 47905., 23434., 92253., 71854., 64118.,\n",
       "       99301., 87505., 77573., 95610., 54401., 33433., 80134., 30080.,\n",
       "       72032., 53081., 78666., 92236., 63116., 44060., 52302., 11757.,\n",
       "       20707., 78415., 60174., 82001., 48126., 77489., 98270., 32771.,\n",
       "       55433., 76051., 94526., 29464., 78539., 50701., 93454., 48073.,\n",
       "       48237., 17403., 73034., 27893., 92399.,  1810., 52601.,  1752.,\n",
       "       60025.,  1040., 33068.,  4240., 60462.,  7002., 32503., 46614.,\n",
       "       30344., 46544., 66502., 92592., 60188., 59102., 64055., 63376.,\n",
       "       95037., 32114., 29483., 28052., 92563., 80022., 83605., 90660.,\n",
       "       91505., 91941.,  7011., 27534., 33063., 83501.,  8901., 60302.,\n",
       "        3060., 47362., 48307., 80634., 60543., 76021., 68701., 94061.,\n",
       "       60004., 93405., 77520., 95687., 68801., 32174., 53214., 33458.,\n",
       "       52402., 61832., 88101., 97405., 21740., 94403., 46368., 77571.])"
      ]
     },
     "execution_count": 76,
     "metadata": {},
     "output_type": "execute_result"
    }
   ],
   "source": [
    "df['Postal Code'].unique()"
   ]
  },
  {
   "cell_type": "code",
   "execution_count": 77,
   "id": "bfcbf413",
   "metadata": {},
   "outputs": [
    {
     "data": {
      "text/plain": [
       "0.0123025930980698"
      ]
     },
     "execution_count": 77,
     "metadata": {},
     "output_type": "execute_result"
    }
   ],
   "source": [
    "df['Postal Code'].nunique()/df.shape[0]"
   ]
  },
  {
   "cell_type": "code",
   "execution_count": 79,
   "id": "c0eb026c",
   "metadata": {},
   "outputs": [
    {
     "data": {
      "text/plain": [
       "3650"
      ]
     },
     "execution_count": 79,
     "metadata": {},
     "output_type": "execute_result"
    }
   ],
   "source": [
    "df['City'].nunique()"
   ]
  },
  {
   "cell_type": "code",
   "execution_count": 80,
   "id": "12847797",
   "metadata": {},
   "outputs": [
    {
     "data": {
      "text/plain": [
       "array(['Oklahoma City', 'Wollongong', 'Brisbane', ..., 'San Mateo',\n",
       "       'Portage', 'Victoria Falls'], dtype=object)"
      ]
     },
     "execution_count": 80,
     "metadata": {},
     "output_type": "execute_result"
    }
   ],
   "source": [
    "df['City'].unique()"
   ]
  },
  {
   "cell_type": "code",
   "execution_count": 81,
   "id": "587fb547",
   "metadata": {},
   "outputs": [
    {
     "data": {
      "text/plain": [
       "0.07116396958471437"
      ]
     },
     "execution_count": 81,
     "metadata": {},
     "output_type": "execute_result"
    }
   ],
   "source": [
    "df['City'].nunique()/df.shape[0]"
   ]
  },
  {
   "cell_type": "code",
   "execution_count": 83,
   "id": "0e1f6244",
   "metadata": {},
   "outputs": [
    {
     "data": {
      "text/plain": [
       "1102"
      ]
     },
     "execution_count": 83,
     "metadata": {},
     "output_type": "execute_result"
    }
   ],
   "source": [
    "df['State'].nunique()"
   ]
  },
  {
   "cell_type": "code",
   "execution_count": 84,
   "id": "67c5c426",
   "metadata": {},
   "outputs": [
    {
     "data": {
      "text/plain": [
       "array(['Oklahoma', 'New South Wales', 'Queensland', ..., 'Bitola',\n",
       "       'Edirne', 'Matabeleland North'], dtype=object)"
      ]
     },
     "execution_count": 84,
     "metadata": {},
     "output_type": "execute_result"
    }
   ],
   "source": [
    "df['State'].unique()"
   ]
  },
  {
   "cell_type": "code",
   "execution_count": 85,
   "id": "dc38340f",
   "metadata": {},
   "outputs": [
    {
     "data": {
      "text/plain": [
       "0.021485669721193215"
      ]
     },
     "execution_count": 85,
     "metadata": {},
     "output_type": "execute_result"
    }
   ],
   "source": [
    "df['State'].nunique()/df.shape[0]"
   ]
  },
  {
   "cell_type": "code",
   "execution_count": 87,
   "id": "bebffe76",
   "metadata": {},
   "outputs": [
    {
     "data": {
      "text/plain": [
       "165"
      ]
     },
     "execution_count": 87,
     "metadata": {},
     "output_type": "execute_result"
    }
   ],
   "source": [
    "df['Country'].nunique()"
   ]
  },
  {
   "cell_type": "code",
   "execution_count": 88,
   "id": "79ef8e3c",
   "metadata": {},
   "outputs": [
    {
     "data": {
      "text/plain": [
       "array(['United States', 'Australia', 'Germany', 'Senegal', 'New Zealand',\n",
       "       'Afghanistan', 'Saudi Arabia', 'Brazil', 'China', 'France',\n",
       "       'Italy', 'Tanzania', 'Poland', 'United Kingdom', 'Mexico',\n",
       "       'El Salvador', 'Taiwan', 'India', 'Dominican Republic',\n",
       "       'Democratic Republic of the Congo', 'Indonesia', 'Uruguay', 'Iran',\n",
       "       'Mozambique', 'Bangladesh', 'Spain', 'Ukraine', 'Nicaragua',\n",
       "       'Morocco', 'Philippines', 'Austria', 'Colombia', 'Netherlands',\n",
       "       'Malaysia', 'Ecuador', 'Thailand', 'Somalia', 'Guatemala',\n",
       "       'Belarus', 'Cambodia', 'South Africa', 'Canada', 'Japan', 'Russia',\n",
       "       'Egypt', 'Azerbaijan', 'Lithuania', 'Argentina', 'Lesotho',\n",
       "       'Vietnam', 'Cuba', 'Romania', 'Turkey', 'Cameroon', 'Hungary',\n",
       "       'Singapore', 'Angola', 'Belgium', 'Pakistan', 'Finland', 'Ghana',\n",
       "       'Zambia', 'Iraq', 'Liberia', 'Georgia', 'Switzerland', 'Albania',\n",
       "       'Chad', 'Montenegro', 'Namibia', 'Portugal', 'Madagascar',\n",
       "       'Sweden', 'Myanmar (Burma)', 'Jamaica', 'Greece', 'Qatar',\n",
       "       'Republic of the Congo', 'Norway', 'Algeria', 'South Korea',\n",
       "       'Nigeria', 'Estonia', \"Cote d'Ivoire\", 'Honduras', 'Paraguay',\n",
       "       'Czech Republic', 'Central African Republic', 'Benin', 'Bolivia',\n",
       "       'Chile', 'Martinique', 'Syria', 'Lebanon', 'Kenya', 'Mali',\n",
       "       'Libya', 'Venezuela', 'Trinidad and Tobago', 'Ireland', 'Bulgaria',\n",
       "       'Panama', 'Israel', 'Haiti', 'Barbados', 'Slovenia', 'Togo',\n",
       "       'Mauritania', 'Burkina Faso', 'Guinea', 'Rwanda', 'Denmark',\n",
       "       'Niger', 'Papua New Guinea', 'Mongolia', 'Sudan', 'Kuwait', 'Peru',\n",
       "       'Sierra Leone', 'Luxembourg', 'Bosnia and Herzegovina',\n",
       "       'Guinea-Bissau', 'Djibouti', 'Tunisia', 'Croatia', 'Hong Kong',\n",
       "       'Nepal', 'Guadeloupe', 'Kyrgyzstan', 'Zimbabwe', 'Uzbekistan',\n",
       "       'South Sudan', 'Malawi', 'Gabon', 'Bahrain', 'Yemen', 'Jordan',\n",
       "       'United Arab Emirates', 'Moldova', 'Costa Rica', 'Swaziland',\n",
       "       'Western Sahara', 'Guyana', 'Serbia', 'Turkmenistan', 'Laos',\n",
       "       'Kazakhstan', 'Botswana', 'Ethiopia', 'Uganda', 'Slovakia',\n",
       "       'Sri Lanka', 'French Guiana', 'Tajikistan', 'Burundi', 'Bhutan',\n",
       "       'Macedonia', 'Eritrea', 'Equatorial Guinea', 'Belize', 'Armenia',\n",
       "       'Oman', 'Cyprus', 'Suriname', 'The Gambia'], dtype=object)"
      ]
     },
     "execution_count": 88,
     "metadata": {},
     "output_type": "execute_result"
    }
   ],
   "source": [
    "df['Country'].unique()"
   ]
  },
  {
   "cell_type": "code",
   "execution_count": 89,
   "id": "92c4c17f",
   "metadata": {},
   "outputs": [
    {
     "data": {
      "text/plain": [
       "0.003217001364788458"
      ]
     },
     "execution_count": 89,
     "metadata": {},
     "output_type": "execute_result"
    }
   ],
   "source": [
    "df['Country'].nunique()/df.shape[0]"
   ]
  },
  {
   "cell_type": "code",
   "execution_count": 91,
   "id": "67eedb13",
   "metadata": {},
   "outputs": [
    {
     "data": {
      "text/plain": [
       "23"
      ]
     },
     "execution_count": 91,
     "metadata": {},
     "output_type": "execute_result"
    }
   ],
   "source": [
    "df['Region'].nunique()"
   ]
  },
  {
   "cell_type": "code",
   "execution_count": 92,
   "id": "253d552f",
   "metadata": {},
   "outputs": [
    {
     "data": {
      "text/plain": [
       "array(['Central US', 'Oceania', 'Western Europe', 'Western Africa',\n",
       "       'Western US', 'Southern Asia', 'Western Asia', 'South America',\n",
       "       'Eastern Asia', 'Southern Europe', 'Eastern Africa',\n",
       "       'Eastern Europe', 'Northern Europe', 'Central America',\n",
       "       'Eastern US', 'Caribbean', 'Central Africa', 'Southeastern Asia',\n",
       "       'Southern US', 'North Africa', 'Southern Africa', 'Canada',\n",
       "       'Central Asia'], dtype=object)"
      ]
     },
     "execution_count": 92,
     "metadata": {},
     "output_type": "execute_result"
    }
   ],
   "source": [
    "df['Region'].unique()"
   ]
  },
  {
   "cell_type": "code",
   "execution_count": 93,
   "id": "a5ad2824",
   "metadata": {},
   "outputs": [
    {
     "data": {
      "text/plain": [
       "0.0004484304932735426"
      ]
     },
     "execution_count": 93,
     "metadata": {},
     "output_type": "execute_result"
    }
   ],
   "source": [
    "df['Region'].nunique()/df.shape[0]"
   ]
  },
  {
   "cell_type": "code",
   "execution_count": 95,
   "id": "c1d95e26",
   "metadata": {},
   "outputs": [
    {
     "data": {
      "text/plain": [
       "5"
      ]
     },
     "execution_count": 95,
     "metadata": {},
     "output_type": "execute_result"
    }
   ],
   "source": [
    "df['Market'].nunique()"
   ]
  },
  {
   "cell_type": "code",
   "execution_count": 97,
   "id": "202f64a6",
   "metadata": {},
   "outputs": [
    {
     "data": {
      "text/plain": [
       "array(['USCA', 'Asia Pacific', 'Europe', 'Africa', 'LATAM'], dtype=object)"
      ]
     },
     "execution_count": 97,
     "metadata": {},
     "output_type": "execute_result"
    }
   ],
   "source": [
    "df['Market'].unique()"
   ]
  },
  {
   "cell_type": "code",
   "execution_count": 98,
   "id": "1048260a",
   "metadata": {},
   "outputs": [
    {
     "data": {
      "text/plain": [
       "9.748488984207447e-05"
      ]
     },
     "execution_count": 98,
     "metadata": {},
     "output_type": "execute_result"
    }
   ],
   "source": [
    "df['Market'].nunique()/df.shape[0]"
   ]
  },
  {
   "cell_type": "code",
   "execution_count": 100,
   "id": "3a6a99cb",
   "metadata": {},
   "outputs": [
    {
     "data": {
      "text/plain": [
       "3788"
      ]
     },
     "execution_count": 100,
     "metadata": {},
     "output_type": "execute_result"
    }
   ],
   "source": [
    "df['Product ID'].nunique()"
   ]
  },
  {
   "cell_type": "code",
   "execution_count": 101,
   "id": "5a3cfa04",
   "metadata": {},
   "outputs": [
    {
     "data": {
      "text/plain": [
       "array(['TEC-PH-5816', 'FUR-CH-5379', 'TEC-PH-5356', ..., 'OFF-AP-3370',\n",
       "       'TEC-MA-4598', 'TEC-PH-3808'], dtype=object)"
      ]
     },
     "execution_count": 101,
     "metadata": {},
     "output_type": "execute_result"
    }
   ],
   "source": [
    "df['Product ID'].unique()"
   ]
  },
  {
   "cell_type": "code",
   "execution_count": 102,
   "id": "9626a2dd",
   "metadata": {},
   "outputs": [
    {
     "data": {
      "text/plain": [
       "0.07385455254435562"
      ]
     },
     "execution_count": 102,
     "metadata": {},
     "output_type": "execute_result"
    }
   ],
   "source": [
    "df['Product ID'].nunique()/df.shape[0]"
   ]
  },
  {
   "cell_type": "code",
   "execution_count": 104,
   "id": "828fdacb",
   "metadata": {},
   "outputs": [
    {
     "data": {
      "text/plain": [
       "3"
      ]
     },
     "execution_count": 104,
     "metadata": {},
     "output_type": "execute_result"
    }
   ],
   "source": [
    "df['Category'].nunique()"
   ]
  },
  {
   "cell_type": "code",
   "execution_count": 105,
   "id": "f1906516",
   "metadata": {},
   "outputs": [
    {
     "data": {
      "text/plain": [
       "array(['Technology', 'Furniture', 'Office Supplies'], dtype=object)"
      ]
     },
     "execution_count": 105,
     "metadata": {},
     "output_type": "execute_result"
    }
   ],
   "source": [
    "df['Category'].unique()"
   ]
  },
  {
   "cell_type": "code",
   "execution_count": 106,
   "id": "7d293bf9",
   "metadata": {},
   "outputs": [
    {
     "data": {
      "text/plain": [
       "5.8490933905244686e-05"
      ]
     },
     "execution_count": 106,
     "metadata": {},
     "output_type": "execute_result"
    }
   ],
   "source": [
    "df['Category'].nunique()/df.shape[0]"
   ]
  },
  {
   "cell_type": "code",
   "execution_count": 109,
   "id": "a95e62ba",
   "metadata": {},
   "outputs": [
    {
     "data": {
      "text/plain": [
       "17"
      ]
     },
     "execution_count": 109,
     "metadata": {},
     "output_type": "execute_result"
    }
   ],
   "source": [
    "df['Sub-Category'].nunique()"
   ]
  },
  {
   "cell_type": "code",
   "execution_count": 110,
   "id": "d4a626b4",
   "metadata": {},
   "outputs": [
    {
     "data": {
      "text/plain": [
       "array(['Phones', 'Chairs', 'Copiers', 'Tables', 'Bookcases', 'Art',\n",
       "       'Appliances', 'Storage', 'Fasteners', 'Machines', 'Accessories',\n",
       "       'Furnishings', 'Binders', 'Labels', 'Paper', 'Supplies',\n",
       "       'Envelopes'], dtype=object)"
      ]
     },
     "execution_count": 110,
     "metadata": {},
     "output_type": "execute_result"
    }
   ],
   "source": [
    "df['Sub-Category'].unique()"
   ]
  },
  {
   "cell_type": "code",
   "execution_count": 111,
   "id": "dfd0d771",
   "metadata": {},
   "outputs": [
    {
     "data": {
      "text/plain": [
       "0.00033144862546305323"
      ]
     },
     "execution_count": 111,
     "metadata": {},
     "output_type": "execute_result"
    }
   ],
   "source": [
    "df['Sub-Category'].nunique()/df.shape[0]"
   ]
  },
  {
   "cell_type": "code",
   "execution_count": 113,
   "id": "70357b04",
   "metadata": {},
   "outputs": [
    {
     "data": {
      "text/plain": [
       "3788"
      ]
     },
     "execution_count": 113,
     "metadata": {},
     "output_type": "execute_result"
    }
   ],
   "source": [
    "df['Product Name'].nunique()"
   ]
  },
  {
   "cell_type": "code",
   "execution_count": 114,
   "id": "72802f36",
   "metadata": {},
   "outputs": [
    {
     "data": {
      "text/plain": [
       "array(['Samsung Convoy 3', 'Novimex Executive Leather Armchair, Black',\n",
       "       'Nokia Smart Phone, with Caller ID', ...,\n",
       "       'Belkin 8 Outlet SurgeMaster II Gold Surge Protector with Phone Protection',\n",
       "       'Hewlett-Packard Deskjet D4360 Printer', 'Cisco SPA 501G IP Phone'],\n",
       "      dtype=object)"
      ]
     },
     "execution_count": 114,
     "metadata": {},
     "output_type": "execute_result"
    }
   ],
   "source": [
    "df['Product Name'].unique()"
   ]
  },
  {
   "cell_type": "code",
   "execution_count": 115,
   "id": "880d16f4",
   "metadata": {},
   "outputs": [
    {
     "data": {
      "text/plain": [
       "0.07385455254435562"
      ]
     },
     "execution_count": 115,
     "metadata": {},
     "output_type": "execute_result"
    }
   ],
   "source": [
    "df['Product Name'].nunique()/df.shape[0]"
   ]
  },
  {
   "cell_type": "code",
   "execution_count": 117,
   "id": "dcab6360",
   "metadata": {},
   "outputs": [
    {
     "data": {
      "text/plain": [
       "27200"
      ]
     },
     "execution_count": 117,
     "metadata": {},
     "output_type": "execute_result"
    }
   ],
   "source": [
    "df['Sales'].nunique()"
   ]
  },
  {
   "cell_type": "code",
   "execution_count": 118,
   "id": "e907445f",
   "metadata": {},
   "outputs": [
    {
     "data": {
      "text/plain": [
       "array([ 221.98 , 3709.395, 5175.171, ...,  259.96 ,   49.302,    5.364])"
      ]
     },
     "execution_count": 118,
     "metadata": {},
     "output_type": "execute_result"
    }
   ],
   "source": [
    "df['Sales'].unique()"
   ]
  },
  {
   "cell_type": "code",
   "execution_count": 119,
   "id": "636b20c8",
   "metadata": {},
   "outputs": [
    {
     "data": {
      "text/plain": [
       "0.5303178007408852"
      ]
     },
     "execution_count": 119,
     "metadata": {},
     "output_type": "execute_result"
    }
   ],
   "source": [
    "df['Sales'].nunique()/df.shape[0]"
   ]
  },
  {
   "cell_type": "code",
   "execution_count": 121,
   "id": "7da8d179",
   "metadata": {},
   "outputs": [
    {
     "data": {
      "text/plain": [
       "14"
      ]
     },
     "execution_count": 121,
     "metadata": {},
     "output_type": "execute_result"
    }
   ],
   "source": [
    "df['Quantity'].nunique()"
   ]
  },
  {
   "cell_type": "code",
   "execution_count": 122,
   "id": "48a9e9c7",
   "metadata": {},
   "outputs": [
    {
     "data": {
      "text/plain": [
       "array([ 2,  9,  5,  8,  4,  6,  1,  3,  7, 12, 14, 10, 13, 11],\n",
       "      dtype=int64)"
      ]
     },
     "execution_count": 122,
     "metadata": {},
     "output_type": "execute_result"
    }
   ],
   "source": [
    "df['Quantity'].unique()"
   ]
  },
  {
   "cell_type": "code",
   "execution_count": 123,
   "id": "7c8c3357",
   "metadata": {},
   "outputs": [
    {
     "data": {
      "text/plain": [
       "0.0002729576915578085"
      ]
     },
     "execution_count": 123,
     "metadata": {},
     "output_type": "execute_result"
    }
   ],
   "source": [
    "df['Quantity'].nunique()/df.shape[0]"
   ]
  },
  {
   "cell_type": "code",
   "execution_count": 124,
   "id": "4587086c",
   "metadata": {},
   "outputs": [
    {
     "data": {
      "text/plain": [
       "0.0002729576915578085"
      ]
     },
     "execution_count": 124,
     "metadata": {},
     "output_type": "execute_result"
    }
   ],
   "source": [
    "df['Quantity'].nunique()/df.shape[0]"
   ]
  },
  {
   "cell_type": "code",
   "execution_count": 126,
   "id": "4c78a2f2",
   "metadata": {},
   "outputs": [
    {
     "data": {
      "text/plain": [
       "29"
      ]
     },
     "execution_count": 126,
     "metadata": {},
     "output_type": "execute_result"
    }
   ],
   "source": [
    "df['Discount'].nunique()"
   ]
  },
  {
   "cell_type": "code",
   "execution_count": 127,
   "id": "93bbae95",
   "metadata": {},
   "outputs": [
    {
     "data": {
      "text/plain": [
       "array([0.   , 0.1  , 0.2  , 0.15 , 0.17 , 0.5  , 0.47 , 0.4  , 0.7  ,\n",
       "       0.25 , 0.002, 0.07 , 0.27 , 0.3  , 0.35 , 0.15 , 0.6  , 0.65 ,\n",
       "       0.8  , 0.57 , 0.37 , 0.402, 0.55 , 0.202, 0.32 , 0.45 , 0.45 ,\n",
       "       0.602, 0.85 ])"
      ]
     },
     "execution_count": 127,
     "metadata": {},
     "output_type": "execute_result"
    }
   ],
   "source": [
    "df['Discount'].unique()"
   ]
  },
  {
   "cell_type": "code",
   "execution_count": 128,
   "id": "a6f44b45",
   "metadata": {},
   "outputs": [
    {
     "data": {
      "text/plain": [
       "0.000565412361084032"
      ]
     },
     "execution_count": 128,
     "metadata": {},
     "output_type": "execute_result"
    }
   ],
   "source": [
    "df['Discount'].nunique()/df.shape[0]"
   ]
  },
  {
   "cell_type": "code",
   "execution_count": 130,
   "id": "b0032f8b",
   "metadata": {},
   "outputs": [
    {
     "data": {
      "text/plain": [
       "28234"
      ]
     },
     "execution_count": 130,
     "metadata": {},
     "output_type": "execute_result"
    }
   ],
   "source": [
    "df['Profit'].nunique()"
   ]
  },
  {
   "cell_type": "code",
   "execution_count": 131,
   "id": "7ea1b9dd",
   "metadata": {},
   "outputs": [
    {
     "data": {
      "text/plain": [
       "array([  62.1544, -288.765 ,  919.971 , ...,   22.0472,  -49.572 ,\n",
       "         -6.456 ])"
      ]
     },
     "execution_count": 131,
     "metadata": {},
     "output_type": "execute_result"
    }
   ],
   "source": [
    "df['Profit'].unique()"
   ]
  },
  {
   "cell_type": "code",
   "execution_count": 132,
   "id": "8c7c7021",
   "metadata": {},
   "outputs": [
    {
     "data": {
      "text/plain": [
       "0.5504776759602261"
      ]
     },
     "execution_count": 132,
     "metadata": {},
     "output_type": "execute_result"
    }
   ],
   "source": [
    "df['Profit'].nunique()/df.shape[0]"
   ]
  },
  {
   "cell_type": "code",
   "execution_count": 134,
   "id": "51beedcb",
   "metadata": {},
   "outputs": [
    {
     "data": {
      "text/plain": [
       "16753"
      ]
     },
     "execution_count": 134,
     "metadata": {},
     "output_type": "execute_result"
    }
   ],
   "source": [
    "df['Shipping Cost'].nunique()"
   ]
  },
  {
   "cell_type": "code",
   "execution_count": 135,
   "id": "931d12f1",
   "metadata": {},
   "outputs": [
    {
     "data": {
      "text/plain": [
       "array([ 40.77 , 923.63 , 915.49 , ...,   1.019,   1.003,   1.002])"
      ]
     },
     "execution_count": 135,
     "metadata": {},
     "output_type": "execute_result"
    }
   ],
   "source": [
    "df['Shipping Cost'].unique()"
   ]
  },
  {
   "cell_type": "code",
   "execution_count": 136,
   "id": "8314a9d8",
   "metadata": {},
   "outputs": [
    {
     "data": {
      "text/plain": [
       "0.32663287190485474"
      ]
     },
     "execution_count": 136,
     "metadata": {},
     "output_type": "execute_result"
    }
   ],
   "source": [
    "df['Shipping Cost'].nunique()/df.shape[0]"
   ]
  },
  {
   "cell_type": "code",
   "execution_count": 138,
   "id": "c7158c75",
   "metadata": {},
   "outputs": [
    {
     "data": {
      "text/plain": [
       "4"
      ]
     },
     "execution_count": 138,
     "metadata": {},
     "output_type": "execute_result"
    }
   ],
   "source": [
    "df['Order Priority'].nunique()"
   ]
  },
  {
   "cell_type": "code",
   "execution_count": 139,
   "id": "5495f403",
   "metadata": {},
   "outputs": [
    {
     "data": {
      "text/plain": [
       "array(['High', 'Critical', 'Medium', 'Low'], dtype=object)"
      ]
     },
     "execution_count": 139,
     "metadata": {},
     "output_type": "execute_result"
    }
   ],
   "source": [
    "df['Order Priority'].unique()"
   ]
  },
  {
   "cell_type": "code",
   "execution_count": 140,
   "id": "31d043b3",
   "metadata": {},
   "outputs": [
    {
     "data": {
      "text/plain": [
       "7.798791187365959e-05"
      ]
     },
     "execution_count": 140,
     "metadata": {},
     "output_type": "execute_result"
    }
   ],
   "source": [
    "df['Order Priority'].nunique()/df.shape[0]"
   ]
  },
  {
   "cell_type": "code",
   "execution_count": 6,
   "id": "13a0ac21",
   "metadata": {},
   "outputs": [
    {
     "name": "stderr",
     "output_type": "stream",
     "text": [
      "<ipython-input-6-ca85a32e6b3c>:1: FutureWarning: Treating datetime data as categorical rather than numeric in `.describe` is deprecated and will be removed in a future version of pandas. Specify `datetime_is_numeric=True` to silence this warning and adopt the future behavior now.\n",
      "  df.describe(include='all',percentiles=[0.01,0.5,0.95,0.99]).T\n",
      "<ipython-input-6-ca85a32e6b3c>:1: FutureWarning: Treating datetime data as categorical rather than numeric in `.describe` is deprecated and will be removed in a future version of pandas. Specify `datetime_is_numeric=True` to silence this warning and adopt the future behavior now.\n",
      "  df.describe(include='all',percentiles=[0.01,0.5,0.95,0.99]).T\n"
     ]
    },
    {
     "data": {
      "text/html": [
       "<div>\n",
       "<style scoped>\n",
       "    .dataframe tbody tr th:only-of-type {\n",
       "        vertical-align: middle;\n",
       "    }\n",
       "\n",
       "    .dataframe tbody tr th {\n",
       "        vertical-align: top;\n",
       "    }\n",
       "\n",
       "    .dataframe thead th {\n",
       "        text-align: right;\n",
       "    }\n",
       "</style>\n",
       "<table border=\"1\" class=\"dataframe\">\n",
       "  <thead>\n",
       "    <tr style=\"text-align: right;\">\n",
       "      <th></th>\n",
       "      <th>count</th>\n",
       "      <th>unique</th>\n",
       "      <th>top</th>\n",
       "      <th>freq</th>\n",
       "      <th>first</th>\n",
       "      <th>last</th>\n",
       "      <th>mean</th>\n",
       "      <th>std</th>\n",
       "      <th>min</th>\n",
       "      <th>1%</th>\n",
       "      <th>50%</th>\n",
       "      <th>95%</th>\n",
       "      <th>99%</th>\n",
       "      <th>max</th>\n",
       "    </tr>\n",
       "  </thead>\n",
       "  <tbody>\n",
       "    <tr>\n",
       "      <th>Order ID</th>\n",
       "      <td>51290</td>\n",
       "      <td>25728</td>\n",
       "      <td>CA-2015-SV20365140-42268</td>\n",
       "      <td>14</td>\n",
       "      <td>NaT</td>\n",
       "      <td>NaT</td>\n",
       "      <td>NaN</td>\n",
       "      <td>NaN</td>\n",
       "      <td>NaN</td>\n",
       "      <td>NaN</td>\n",
       "      <td>NaN</td>\n",
       "      <td>NaN</td>\n",
       "      <td>NaN</td>\n",
       "      <td>NaN</td>\n",
       "    </tr>\n",
       "    <tr>\n",
       "      <th>Order Date</th>\n",
       "      <td>51290</td>\n",
       "      <td>1430</td>\n",
       "      <td>2015-06-18 00:00:00</td>\n",
       "      <td>135</td>\n",
       "      <td>2012-01-01</td>\n",
       "      <td>2015-12-31</td>\n",
       "      <td>NaN</td>\n",
       "      <td>NaN</td>\n",
       "      <td>NaN</td>\n",
       "      <td>NaN</td>\n",
       "      <td>NaN</td>\n",
       "      <td>NaN</td>\n",
       "      <td>NaN</td>\n",
       "      <td>NaN</td>\n",
       "    </tr>\n",
       "    <tr>\n",
       "      <th>Ship Date</th>\n",
       "      <td>51290</td>\n",
       "      <td>1464</td>\n",
       "      <td>2015-11-22 00:00:00</td>\n",
       "      <td>130</td>\n",
       "      <td>2012-01-03</td>\n",
       "      <td>2016-01-07</td>\n",
       "      <td>NaN</td>\n",
       "      <td>NaN</td>\n",
       "      <td>NaN</td>\n",
       "      <td>NaN</td>\n",
       "      <td>NaN</td>\n",
       "      <td>NaN</td>\n",
       "      <td>NaN</td>\n",
       "      <td>NaN</td>\n",
       "    </tr>\n",
       "    <tr>\n",
       "      <th>Ship Mode</th>\n",
       "      <td>51290</td>\n",
       "      <td>4</td>\n",
       "      <td>Standard Class</td>\n",
       "      <td>30775</td>\n",
       "      <td>NaT</td>\n",
       "      <td>NaT</td>\n",
       "      <td>NaN</td>\n",
       "      <td>NaN</td>\n",
       "      <td>NaN</td>\n",
       "      <td>NaN</td>\n",
       "      <td>NaN</td>\n",
       "      <td>NaN</td>\n",
       "      <td>NaN</td>\n",
       "      <td>NaN</td>\n",
       "    </tr>\n",
       "    <tr>\n",
       "      <th>Customer ID</th>\n",
       "      <td>51290</td>\n",
       "      <td>17415</td>\n",
       "      <td>SV-203651406</td>\n",
       "      <td>26</td>\n",
       "      <td>NaT</td>\n",
       "      <td>NaT</td>\n",
       "      <td>NaN</td>\n",
       "      <td>NaN</td>\n",
       "      <td>NaN</td>\n",
       "      <td>NaN</td>\n",
       "      <td>NaN</td>\n",
       "      <td>NaN</td>\n",
       "      <td>NaN</td>\n",
       "      <td>NaN</td>\n",
       "    </tr>\n",
       "    <tr>\n",
       "      <th>Customer Name</th>\n",
       "      <td>51290</td>\n",
       "      <td>796</td>\n",
       "      <td>Muhammed Yedwab</td>\n",
       "      <td>108</td>\n",
       "      <td>NaT</td>\n",
       "      <td>NaT</td>\n",
       "      <td>NaN</td>\n",
       "      <td>NaN</td>\n",
       "      <td>NaN</td>\n",
       "      <td>NaN</td>\n",
       "      <td>NaN</td>\n",
       "      <td>NaN</td>\n",
       "      <td>NaN</td>\n",
       "      <td>NaN</td>\n",
       "    </tr>\n",
       "    <tr>\n",
       "      <th>Segment</th>\n",
       "      <td>51290</td>\n",
       "      <td>3</td>\n",
       "      <td>Consumer</td>\n",
       "      <td>26518</td>\n",
       "      <td>NaT</td>\n",
       "      <td>NaT</td>\n",
       "      <td>NaN</td>\n",
       "      <td>NaN</td>\n",
       "      <td>NaN</td>\n",
       "      <td>NaN</td>\n",
       "      <td>NaN</td>\n",
       "      <td>NaN</td>\n",
       "      <td>NaN</td>\n",
       "      <td>NaN</td>\n",
       "    </tr>\n",
       "    <tr>\n",
       "      <th>Postal Code</th>\n",
       "      <td>9994.0</td>\n",
       "      <td>NaN</td>\n",
       "      <td>NaN</td>\n",
       "      <td>NaN</td>\n",
       "      <td>NaT</td>\n",
       "      <td>NaT</td>\n",
       "      <td>55190.379428</td>\n",
       "      <td>32063.69335</td>\n",
       "      <td>1040.0</td>\n",
       "      <td>2149.0</td>\n",
       "      <td>56430.5</td>\n",
       "      <td>98006.0</td>\n",
       "      <td>98115.0</td>\n",
       "      <td>99301.0</td>\n",
       "    </tr>\n",
       "    <tr>\n",
       "      <th>City</th>\n",
       "      <td>51290</td>\n",
       "      <td>3650</td>\n",
       "      <td>New York City</td>\n",
       "      <td>915</td>\n",
       "      <td>NaT</td>\n",
       "      <td>NaT</td>\n",
       "      <td>NaN</td>\n",
       "      <td>NaN</td>\n",
       "      <td>NaN</td>\n",
       "      <td>NaN</td>\n",
       "      <td>NaN</td>\n",
       "      <td>NaN</td>\n",
       "      <td>NaN</td>\n",
       "      <td>NaN</td>\n",
       "    </tr>\n",
       "    <tr>\n",
       "      <th>State</th>\n",
       "      <td>51290</td>\n",
       "      <td>1102</td>\n",
       "      <td>California</td>\n",
       "      <td>2001</td>\n",
       "      <td>NaT</td>\n",
       "      <td>NaT</td>\n",
       "      <td>NaN</td>\n",
       "      <td>NaN</td>\n",
       "      <td>NaN</td>\n",
       "      <td>NaN</td>\n",
       "      <td>NaN</td>\n",
       "      <td>NaN</td>\n",
       "      <td>NaN</td>\n",
       "      <td>NaN</td>\n",
       "    </tr>\n",
       "    <tr>\n",
       "      <th>Country</th>\n",
       "      <td>51290</td>\n",
       "      <td>165</td>\n",
       "      <td>United States</td>\n",
       "      <td>9994</td>\n",
       "      <td>NaT</td>\n",
       "      <td>NaT</td>\n",
       "      <td>NaN</td>\n",
       "      <td>NaN</td>\n",
       "      <td>NaN</td>\n",
       "      <td>NaN</td>\n",
       "      <td>NaN</td>\n",
       "      <td>NaN</td>\n",
       "      <td>NaN</td>\n",
       "      <td>NaN</td>\n",
       "    </tr>\n",
       "    <tr>\n",
       "      <th>Region</th>\n",
       "      <td>51290</td>\n",
       "      <td>23</td>\n",
       "      <td>Western Europe</td>\n",
       "      <td>5883</td>\n",
       "      <td>NaT</td>\n",
       "      <td>NaT</td>\n",
       "      <td>NaN</td>\n",
       "      <td>NaN</td>\n",
       "      <td>NaN</td>\n",
       "      <td>NaN</td>\n",
       "      <td>NaN</td>\n",
       "      <td>NaN</td>\n",
       "      <td>NaN</td>\n",
       "      <td>NaN</td>\n",
       "    </tr>\n",
       "    <tr>\n",
       "      <th>Market</th>\n",
       "      <td>51290</td>\n",
       "      <td>5</td>\n",
       "      <td>Asia Pacific</td>\n",
       "      <td>14302</td>\n",
       "      <td>NaT</td>\n",
       "      <td>NaT</td>\n",
       "      <td>NaN</td>\n",
       "      <td>NaN</td>\n",
       "      <td>NaN</td>\n",
       "      <td>NaN</td>\n",
       "      <td>NaN</td>\n",
       "      <td>NaN</td>\n",
       "      <td>NaN</td>\n",
       "      <td>NaN</td>\n",
       "    </tr>\n",
       "    <tr>\n",
       "      <th>Product ID</th>\n",
       "      <td>51290</td>\n",
       "      <td>3788</td>\n",
       "      <td>OFF-FA-6129</td>\n",
       "      <td>227</td>\n",
       "      <td>NaT</td>\n",
       "      <td>NaT</td>\n",
       "      <td>NaN</td>\n",
       "      <td>NaN</td>\n",
       "      <td>NaN</td>\n",
       "      <td>NaN</td>\n",
       "      <td>NaN</td>\n",
       "      <td>NaN</td>\n",
       "      <td>NaN</td>\n",
       "      <td>NaN</td>\n",
       "    </tr>\n",
       "    <tr>\n",
       "      <th>Category</th>\n",
       "      <td>51290</td>\n",
       "      <td>3</td>\n",
       "      <td>Office Supplies</td>\n",
       "      <td>31289</td>\n",
       "      <td>NaT</td>\n",
       "      <td>NaT</td>\n",
       "      <td>NaN</td>\n",
       "      <td>NaN</td>\n",
       "      <td>NaN</td>\n",
       "      <td>NaN</td>\n",
       "      <td>NaN</td>\n",
       "      <td>NaN</td>\n",
       "      <td>NaN</td>\n",
       "      <td>NaN</td>\n",
       "    </tr>\n",
       "    <tr>\n",
       "      <th>Sub-Category</th>\n",
       "      <td>51290</td>\n",
       "      <td>17</td>\n",
       "      <td>Binders</td>\n",
       "      <td>6146</td>\n",
       "      <td>NaT</td>\n",
       "      <td>NaT</td>\n",
       "      <td>NaN</td>\n",
       "      <td>NaN</td>\n",
       "      <td>NaN</td>\n",
       "      <td>NaN</td>\n",
       "      <td>NaN</td>\n",
       "      <td>NaN</td>\n",
       "      <td>NaN</td>\n",
       "      <td>NaN</td>\n",
       "    </tr>\n",
       "    <tr>\n",
       "      <th>Product Name</th>\n",
       "      <td>51290</td>\n",
       "      <td>3788</td>\n",
       "      <td>Staples</td>\n",
       "      <td>227</td>\n",
       "      <td>NaT</td>\n",
       "      <td>NaT</td>\n",
       "      <td>NaN</td>\n",
       "      <td>NaN</td>\n",
       "      <td>NaN</td>\n",
       "      <td>NaN</td>\n",
       "      <td>NaN</td>\n",
       "      <td>NaN</td>\n",
       "      <td>NaN</td>\n",
       "      <td>NaN</td>\n",
       "    </tr>\n",
       "    <tr>\n",
       "      <th>Sales</th>\n",
       "      <td>51290.0</td>\n",
       "      <td>NaN</td>\n",
       "      <td>NaN</td>\n",
       "      <td>NaN</td>\n",
       "      <td>NaT</td>\n",
       "      <td>NaT</td>\n",
       "      <td>246.490581</td>\n",
       "      <td>487.565361</td>\n",
       "      <td>0.444</td>\n",
       "      <td>3.69</td>\n",
       "      <td>85.053</td>\n",
       "      <td>1015.95564</td>\n",
       "      <td>2301.0</td>\n",
       "      <td>22638.48</td>\n",
       "    </tr>\n",
       "    <tr>\n",
       "      <th>Quantity</th>\n",
       "      <td>51290.0</td>\n",
       "      <td>NaN</td>\n",
       "      <td>NaN</td>\n",
       "      <td>NaN</td>\n",
       "      <td>NaT</td>\n",
       "      <td>NaT</td>\n",
       "      <td>3.476545</td>\n",
       "      <td>2.278766</td>\n",
       "      <td>1.0</td>\n",
       "      <td>1.0</td>\n",
       "      <td>3.0</td>\n",
       "      <td>8.0</td>\n",
       "      <td>11.0</td>\n",
       "      <td>14.0</td>\n",
       "    </tr>\n",
       "    <tr>\n",
       "      <th>Discount</th>\n",
       "      <td>51290.0</td>\n",
       "      <td>NaN</td>\n",
       "      <td>NaN</td>\n",
       "      <td>NaN</td>\n",
       "      <td>NaT</td>\n",
       "      <td>NaT</td>\n",
       "      <td>0.142908</td>\n",
       "      <td>0.21228</td>\n",
       "      <td>0.0</td>\n",
       "      <td>0.0</td>\n",
       "      <td>0.0</td>\n",
       "      <td>0.6</td>\n",
       "      <td>0.7</td>\n",
       "      <td>0.85</td>\n",
       "    </tr>\n",
       "    <tr>\n",
       "      <th>Profit</th>\n",
       "      <td>51290.0</td>\n",
       "      <td>NaN</td>\n",
       "      <td>NaN</td>\n",
       "      <td>NaN</td>\n",
       "      <td>NaT</td>\n",
       "      <td>NaT</td>\n",
       "      <td>28.610982</td>\n",
       "      <td>174.340972</td>\n",
       "      <td>-6599.978</td>\n",
       "      <td>-351.50565</td>\n",
       "      <td>9.24</td>\n",
       "      <td>211.5</td>\n",
       "      <td>587.35995</td>\n",
       "      <td>8399.976</td>\n",
       "    </tr>\n",
       "    <tr>\n",
       "      <th>Shipping Cost</th>\n",
       "      <td>51290.0</td>\n",
       "      <td>NaN</td>\n",
       "      <td>NaN</td>\n",
       "      <td>NaN</td>\n",
       "      <td>NaT</td>\n",
       "      <td>NaT</td>\n",
       "      <td>26.478567</td>\n",
       "      <td>57.251373</td>\n",
       "      <td>1.002</td>\n",
       "      <td>1.11</td>\n",
       "      <td>7.79</td>\n",
       "      <td>111.4095</td>\n",
       "      <td>286.7543</td>\n",
       "      <td>933.57</td>\n",
       "    </tr>\n",
       "    <tr>\n",
       "      <th>Order Priority</th>\n",
       "      <td>51290</td>\n",
       "      <td>4</td>\n",
       "      <td>Medium</td>\n",
       "      <td>29433</td>\n",
       "      <td>NaT</td>\n",
       "      <td>NaT</td>\n",
       "      <td>NaN</td>\n",
       "      <td>NaN</td>\n",
       "      <td>NaN</td>\n",
       "      <td>NaN</td>\n",
       "      <td>NaN</td>\n",
       "      <td>NaN</td>\n",
       "      <td>NaN</td>\n",
       "      <td>NaN</td>\n",
       "    </tr>\n",
       "  </tbody>\n",
       "</table>\n",
       "</div>"
      ],
      "text/plain": [
       "                  count unique                       top   freq      first  \\\n",
       "Order ID          51290  25728  CA-2015-SV20365140-42268     14        NaT   \n",
       "Order Date        51290   1430       2015-06-18 00:00:00    135 2012-01-01   \n",
       "Ship Date         51290   1464       2015-11-22 00:00:00    130 2012-01-03   \n",
       "Ship Mode         51290      4            Standard Class  30775        NaT   \n",
       "Customer ID       51290  17415              SV-203651406     26        NaT   \n",
       "Customer Name     51290    796           Muhammed Yedwab    108        NaT   \n",
       "Segment           51290      3                  Consumer  26518        NaT   \n",
       "Postal Code      9994.0    NaN                       NaN    NaN        NaT   \n",
       "City              51290   3650             New York City    915        NaT   \n",
       "State             51290   1102                California   2001        NaT   \n",
       "Country           51290    165             United States   9994        NaT   \n",
       "Region            51290     23            Western Europe   5883        NaT   \n",
       "Market            51290      5              Asia Pacific  14302        NaT   \n",
       "Product ID        51290   3788               OFF-FA-6129    227        NaT   \n",
       "Category          51290      3           Office Supplies  31289        NaT   \n",
       "Sub-Category      51290     17                   Binders   6146        NaT   \n",
       "Product Name      51290   3788                   Staples    227        NaT   \n",
       "Sales           51290.0    NaN                       NaN    NaN        NaT   \n",
       "Quantity        51290.0    NaN                       NaN    NaN        NaT   \n",
       "Discount        51290.0    NaN                       NaN    NaN        NaT   \n",
       "Profit          51290.0    NaN                       NaN    NaN        NaT   \n",
       "Shipping Cost   51290.0    NaN                       NaN    NaN        NaT   \n",
       "Order Priority    51290      4                    Medium  29433        NaT   \n",
       "\n",
       "                     last          mean          std       min         1%  \\\n",
       "Order ID              NaT           NaN          NaN       NaN        NaN   \n",
       "Order Date     2015-12-31           NaN          NaN       NaN        NaN   \n",
       "Ship Date      2016-01-07           NaN          NaN       NaN        NaN   \n",
       "Ship Mode             NaT           NaN          NaN       NaN        NaN   \n",
       "Customer ID           NaT           NaN          NaN       NaN        NaN   \n",
       "Customer Name         NaT           NaN          NaN       NaN        NaN   \n",
       "Segment               NaT           NaN          NaN       NaN        NaN   \n",
       "Postal Code           NaT  55190.379428  32063.69335    1040.0     2149.0   \n",
       "City                  NaT           NaN          NaN       NaN        NaN   \n",
       "State                 NaT           NaN          NaN       NaN        NaN   \n",
       "Country               NaT           NaN          NaN       NaN        NaN   \n",
       "Region                NaT           NaN          NaN       NaN        NaN   \n",
       "Market                NaT           NaN          NaN       NaN        NaN   \n",
       "Product ID            NaT           NaN          NaN       NaN        NaN   \n",
       "Category              NaT           NaN          NaN       NaN        NaN   \n",
       "Sub-Category          NaT           NaN          NaN       NaN        NaN   \n",
       "Product Name          NaT           NaN          NaN       NaN        NaN   \n",
       "Sales                 NaT    246.490581   487.565361     0.444       3.69   \n",
       "Quantity              NaT      3.476545     2.278766       1.0        1.0   \n",
       "Discount              NaT      0.142908      0.21228       0.0        0.0   \n",
       "Profit                NaT     28.610982   174.340972 -6599.978 -351.50565   \n",
       "Shipping Cost         NaT     26.478567    57.251373     1.002       1.11   \n",
       "Order Priority        NaT           NaN          NaN       NaN        NaN   \n",
       "\n",
       "                    50%         95%        99%       max  \n",
       "Order ID            NaN         NaN        NaN       NaN  \n",
       "Order Date          NaN         NaN        NaN       NaN  \n",
       "Ship Date           NaN         NaN        NaN       NaN  \n",
       "Ship Mode           NaN         NaN        NaN       NaN  \n",
       "Customer ID         NaN         NaN        NaN       NaN  \n",
       "Customer Name       NaN         NaN        NaN       NaN  \n",
       "Segment             NaN         NaN        NaN       NaN  \n",
       "Postal Code     56430.5     98006.0    98115.0   99301.0  \n",
       "City                NaN         NaN        NaN       NaN  \n",
       "State               NaN         NaN        NaN       NaN  \n",
       "Country             NaN         NaN        NaN       NaN  \n",
       "Region              NaN         NaN        NaN       NaN  \n",
       "Market              NaN         NaN        NaN       NaN  \n",
       "Product ID          NaN         NaN        NaN       NaN  \n",
       "Category            NaN         NaN        NaN       NaN  \n",
       "Sub-Category        NaN         NaN        NaN       NaN  \n",
       "Product Name        NaN         NaN        NaN       NaN  \n",
       "Sales            85.053  1015.95564     2301.0  22638.48  \n",
       "Quantity            3.0         8.0       11.0      14.0  \n",
       "Discount            0.0         0.6        0.7      0.85  \n",
       "Profit             9.24       211.5  587.35995  8399.976  \n",
       "Shipping Cost      7.79    111.4095   286.7543    933.57  \n",
       "Order Priority      NaN         NaN        NaN       NaN  "
      ]
     },
     "execution_count": 6,
     "metadata": {},
     "output_type": "execute_result"
    }
   ],
   "source": [
    "df.describe(include='all',percentiles=[0.01,0.5,0.95,0.99]).T"
   ]
  },
  {
   "cell_type": "code",
   "execution_count": 16,
   "id": "34f0b652",
   "metadata": {},
   "outputs": [
    {
     "data": {
      "image/png": "[encoded data removed]",
      "text/plain": [
       "<Figure size 432x288 with 1 Axes>"
      ]
     },
     "metadata": {
      "needs_background": "light"
     },
     "output_type": "display_data"
    }
   ],
   "source": [
    "plt.hist(df['Sales'],edgecolor=\"black\")\n",
    "plt.show()"
   ]
  },
  {
   "cell_type": "code",
   "execution_count": 17,
   "id": "320fa0dd",
   "metadata": {},
   "outputs": [
    {
     "data": {
      "image/png": "[encoded data removed]",
      "text/plain": [
       "<Figure size 432x288 with 1 Axes>"
      ]
     },
     "metadata": {
      "needs_background": "light"
     },
     "output_type": "display_data"
    }
   ],
   "source": [
    "plt.hist(df['Quantity'],edgecolor=\"black\")\n",
    "plt.show()"
   ]
  },
  {
   "cell_type": "code",
   "execution_count": 18,
   "id": "16c49852",
   "metadata": {},
   "outputs": [
    {
     "data": {
      "image/png": "[encoded data removed]",
      "text/plain": [
       "<Figure size 432x288 with 1 Axes>"
      ]
     },
     "metadata": {
      "needs_background": "light"
     },
     "output_type": "display_data"
    }
   ],
   "source": [
    "plt.hist(df['Discount'],edgecolor=\"black\")\n",
    "plt.show()"
   ]
  },
  {
   "cell_type": "code",
   "execution_count": 19,
   "id": "acfe5f67",
   "metadata": {},
   "outputs": [
    {
     "data": {
      "image/png": "[encoded data removed]",
      "text/plain": [
       "<Figure size 432x288 with 1 Axes>"
      ]
     },
     "metadata": {
      "needs_background": "light"
     },
     "output_type": "display_data"
    }
   ],
   "source": [
    "plt.hist(df['Profit'],edgecolor=\"black\")\n",
    "plt.show()"
   ]
  },
  {
   "cell_type": "code",
   "execution_count": 20,
   "id": "701e0676",
   "metadata": {},
   "outputs": [
    {
     "data": {
      "image/png": "[encoded data removed]",
      "text/plain": [
       "<Figure size 432x288 with 1 Axes>"
      ]
     },
     "metadata": {
      "needs_background": "light"
     },
     "output_type": "display_data"
    }
   ],
   "source": [
    "plt.hist(df['Shipping Cost'],edgecolor=\"black\")\n",
    "plt.show()"
   ]
  },
  {
   "cell_type": "code",
   "execution_count": null,
   "id": "d6424656",
   "metadata": {},
   "outputs": [],
   "source": []
  },
  {
   "cell_type": "code",
   "execution_count": null,
   "id": "7fef9a4c",
   "metadata": {},
   "outputs": [],
   "source": []
  },
  {
   "cell_type": "code",
   "execution_count": null,
   "id": "c9a3ff09",
   "metadata": {},
   "outputs": [],
   "source": []
  },
  {
   "cell_type": "code",
   "execution_count": null,
   "id": "d3cf2098",
   "metadata": {},
   "outputs": [],
   "source": []
  },
  {
   "cell_type": "code",
   "execution_count": null,
   "id": "e5701f84",
   "metadata": {},
   "outputs": [],
   "source": []
  },
  {
   "cell_type": "code",
   "execution_count": null,
   "id": "5451267f",
   "metadata": {},
   "outputs": [],
   "source": []
  },
  {
   "cell_type": "code",
   "execution_count": null,
   "id": "ac1e1f37",
   "metadata": {},
   "outputs": [],
   "source": []
  },
  {
   "cell_type": "code",
   "execution_count": null,
   "id": "12c74bd8",
   "metadata": {},
   "outputs": [],
   "source": []
  },
  {
   "cell_type": "code",
   "execution_count": null,
   "id": "92f5b033",
   "metadata": {},
   "outputs": [],
   "source": []
  },
  {
   "cell_type": "code",
   "execution_count": null,
   "id": "680c73b6",
   "metadata": {},
   "outputs": [],
   "source": []
  }
 ],
 "metadata": {
  "kernelspec": {
   "display_name": "Python 3",
   "language": "python",
   "name": "python3"
  },
  "language_info": {
   "codemirror_mode": {
    "name": "ipython",
    "version": 3
   },
   "file_extension": ".py",
   "mimetype": "text/x-python",
   "name": "python",
   "nbconvert_exporter": "python",
   "pygments_lexer": "ipython3",
   "version": "3.8.8"
  }
 },
 "nbformat": 4,
 "nbformat_minor": 5
}
